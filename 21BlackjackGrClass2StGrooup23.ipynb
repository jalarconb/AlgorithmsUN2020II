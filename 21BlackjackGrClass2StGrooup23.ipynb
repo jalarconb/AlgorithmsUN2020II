{
  "nbformat": 4,
  "nbformat_minor": 0,
  "metadata": {
    "colab": {
      "name": "Blackjack.ipynb",
      "provenance": [],
      "collapsed_sections": [
        "R9tB0-ZWjEJP",
        "LLyVwGIOkD8Q",
        "O8BaEsVTpS68",
        "XZAg4foaqeHx",
        "T1nkuGZvqeH1",
        "wm458ezsqeH4",
        "dUSI8eaYwHMz",
        "a7WSE80EwHM1",
        "a1T8GMXOwHM4",
        "hBMDo8J_cb7U",
        "mEW-qYsqcb7a",
        "s8UvLh-HmeBX",
        "Tw75LaFJsizB",
        "rc5QwpE2t8XB",
        "NWvemFGKt8XC",
        "AMrGTR2ct8XG",
        "ilO1-I8CyRwC",
        "YvQ58m9iyRwE",
        "LnaeO1e3ARaG"
      ]
    },
    "kernelspec": {
      "name": "python3",
      "display_name": "Python 3"
    }
  },
  "cells": [
    {
      "cell_type": "markdown",
      "metadata": {
        "id": "IUGsJaunj0fv",
        "colab_type": "text"
      },
      "source": [
        "# **LAB 4 - MONTECARLO/BLACKJACK**\n",
        "\n",
        "* **Juan Esteban Alarcón Bravo** \\\\\n",
        "* **Juan Sebastián Ruiz Sánchez** \\\\\n",
        "* **Xamir Ernesto Rojas Gamboa**"
      ]
    },
    {
      "cell_type": "markdown",
      "metadata": {
        "id": "uGITqYgSkeyC",
        "colab_type": "text"
      },
      "source": [
        "---\n",
        "\n",
        "*Imports previos al desarrollo*"
      ]
    },
    {
      "cell_type": "code",
      "metadata": {
        "id": "QBuuS5dXi0u0",
        "colab_type": "code",
        "colab": {}
      },
      "source": [
        "import random as r\n",
        "import matplotlib.pyplot as plt\n",
        "import collections"
      ],
      "execution_count": 1,
      "outputs": []
    },
    {
      "cell_type": "markdown",
      "metadata": {
        "id": "KRX7qp1avcBF",
        "colab_type": "text"
      },
      "source": [
        "---"
      ]
    },
    {
      "cell_type": "markdown",
      "metadata": {
        "id": "R9tB0-ZWjEJP",
        "colab_type": "text"
      },
      "source": [
        "## **Punto 1**\n",
        "\n",
        "***Calculate the probability of getting a 21 drawing cards sequentially from shuffled Spanish deck and from a shuffled Poker deck.*** \\\\\n",
        "*(Case 1: Figures have **different** value).*"
      ]
    },
    {
      "cell_type": "markdown",
      "metadata": {
        "id": "znGlJqv0mZKK",
        "colab_type": "text"
      },
      "source": [
        "Definimos la función encargada de determinar la probabilidad de obtención de una 21, llamada `sacar_21(start_count,d)`. El parámetro `start_count` es el valor total de las cartas en la mano. El parámetro `d` determina el tipo de baraja que se usará. Este parámetro tiene la forma `\"<deck><case>\"`, en donde `<deck>` puede ser `spanish` para la **Baraja Española** o `poker` para la **Baraja de Poker** y `<case>` puede ser `C1` para el **Caso 1** (en donde todas las figuras toman valores diferentes) o `C2` para el **Caso 2** (en donde todas las figuras toman el mismo valor). \\\\\n",
        "\n",
        "Para este punto es necesario que `<case>` de `d` sea siempre **C1** y que `start_count` sea **0** (ya que la mano está vacía)."
      ]
    },
    {
      "cell_type": "code",
      "metadata": {
        "id": "6gVjv0bdk63M",
        "colab_type": "code",
        "colab": {}
      },
      "source": [
        "def sacar_21(start_count,d):\n",
        "  # Se inicializan algunas variables claves.\n",
        "  successful_events = 0\n",
        "  rep = 10000\n",
        "\n",
        "  # Definición de las distintas Barajas\n",
        "  spanish_deckC1 = [1,2,3,4,5,6,7,10,11,12,\n",
        "                    1,2,3,4,5,6,7,10,11,12,\n",
        "                    1,2,3,4,5,6,7,10,11,12,\n",
        "                    1,2,3,4,5,6,7,10,11,12]\n",
        "\n",
        "  poker_deckC1 = [1,2,3,4,5,6,7,8,9,10,11,12,13,\n",
        "                  1,2,3,4,5,6,7,8,9,10,11,12,13,\n",
        "                  1,2,3,4,5,6,7,8,9,10,11,12,13,\n",
        "                  1,2,3,4,5,6,7,8,9,10,11,12,13]\n",
        "\n",
        "  spanish_deckC2 = [1,2,3,4,5,6,7,10,10,10,\n",
        "                    1,2,3,4,5,6,7,10,10,10,\n",
        "                    1,2,3,4,5,6,7,10,10,10,\n",
        "                    1,2,3,4,5,6,7,10,10,10]\n",
        "\n",
        "  poker_deckC2 = [1,2,3,4,5,6,7,8,9,10,10,10,10,\n",
        "                  1,2,3,4,5,6,7,8,9,10,10,10,10,\n",
        "                  1,2,3,4,5,6,7,8,9,10,10,10,10,\n",
        "                  1,2,3,4,5,6,7,8,9,10,10,10,10]\n",
        "\n",
        "  # Lista del Número de Cartas que se necesitaron en la iteración para llegar a 21 exactos:\n",
        "  cards_to_win_list = []\n",
        "\n",
        "  for _ in range(rep):\n",
        "\n",
        "    # Se crea la baraja de la iteración.\n",
        "    if d == \"spanishC1\":\n",
        "      deck = spanish_deckC1\n",
        "    if d == \"pokerC1\":\n",
        "      deck = poker_deckC1\n",
        "    if d == \"spanishC2\":\n",
        "      deck = spanish_deckC2\n",
        "    if d == \"pokerC2\":\n",
        "      deck = poker_deckC2\n",
        "\n",
        "    # Se establecen los puntos previos.\n",
        "    count = start_count\n",
        "    cards_to_win = 0\n",
        "    # Mientras no se llegue a 21 puntos o se pase, se sacan cartas del deck.\n",
        "    while True:\n",
        "      # Se toma una carta aleatoria (sin repetir la misma) del deck.\n",
        "      card = r.sample(deck,1)\n",
        "      # Se lleva la cuenta de la repetición con la nueva carta .\n",
        "      count += card[0]\n",
        "      # Se suma una carta para ganar.\n",
        "      cards_to_win += 1\n",
        "      if count == 21:\n",
        "        # Si se ganó, se suma la última carta y se suma a eventos exitosos.\n",
        "        successful_events += 1\n",
        "        break\n",
        "      elif count >= 21:\n",
        "        # Si el intento fue fallido, solo se pasa a la siguiente iteración.\n",
        "        break\n",
        "    # si se ganó, se agregan el numero de cartas que se necesitaron para ganar a la lista.\n",
        "    if count == 21:\n",
        "      cards_to_win_list.append(cards_to_win)\n",
        "  # se obtienen una tupla del numero de cartas que se necesitaron para ganar sin repetir\n",
        "  \"\"\"\n",
        "  Ejemplo:\n",
        "  cards_to_win_list = [1,1,1,2,1,2,2,2,3,3,3]\n",
        "  cards_to_win = list(set(cards_to_win_list)) ==> (1,2,3)\n",
        "  \"\"\"\n",
        "  cards_to_win = list(set(cards_to_win_list))\n",
        "  # Se crea una lista para el numero de veces que se necesito ese número de cartas para ganar.\n",
        "  n_cards = []\n",
        "  # Se cuenta el numero de veces que se necesito esa número de cartas para completar 21 y se agrega a la lista.\n",
        "  for card in cards_to_win:\n",
        "    n_cards.append(cards_to_win_list.count(card))\n",
        "\n",
        "  # Se hace el histograma.\n",
        "  chart = plt.bar(cards_to_win,n_cards,align='center',alpha=0.5)\n",
        "  plt.xticks(cards_to_win,cards_to_win)\n",
        "  plt.show\n",
        "\n",
        "  # Se calcula la probabilidad.\n",
        "  prob = (successful_events / rep)*100\n",
        "\n",
        "  # Se imprime el texto.\n",
        "  if d == \"spanishC1\":\n",
        "    deck_name = \"Española (Caso 1)\"\n",
        "  if d == \"pokerC1\":\n",
        "    deck_name = \"de Poker (Caso 1)\"\n",
        "  if d == \"spanishC2\":\n",
        "    deck_name = \"Española (Caso 2)\"\n",
        "  if d == \"pokerC2\":\n",
        "    deck_name = \"de Poker (Caso 2)\"\n",
        "  print(\"La probabilidad de completar 21 consecutivamente con una Baraja {2} es aproximadamente de: {0} % (partiendo con un puntaje de {1})\".format(prob,start_count,deck_name))"
      ],
      "execution_count": 2,
      "outputs": []
    },
    {
      "cell_type": "markdown",
      "metadata": {
        "id": "LLyVwGIOkD8Q",
        "colab_type": "text"
      },
      "source": [
        "### *Baraja Española*"
      ]
    },
    {
      "cell_type": "code",
      "metadata": {
        "id": "MYqPPKzqpOir",
        "colab_type": "code",
        "colab": {
          "base_uri": "https://localhost:8080/",
          "height": 0
        },
        "outputId": "fca2947f-541a-45c0-d92d-07eae112e865"
      },
      "source": [
        "sacar_21(0,\"spanishC1\")"
      ],
      "execution_count": 3,
      "outputs": [
        {
          "output_type": "stream",
          "text": [
            "La probabilidad de completar 21 consecutivamente con una Baraja Española (Caso 1) es aproximadamente de: 15.76 % (partiendo con un puntaje de 0)\n"
          ],
          "name": "stdout"
        },
        {
          "output_type": "display_data",
          "data": {
            "image/png": "[encoded data removed]",
            "text/plain": [
              "<Figure size 432x288 with 1 Axes>"
            ]
          },
          "metadata": {
            "tags": [],
            "needs_background": "light"
          }
        }
      ]
    },
    {
      "cell_type": "markdown",
      "metadata": {
        "id": "O8BaEsVTpS68",
        "colab_type": "text"
      },
      "source": [
        "### *Baraja de Poker*"
      ]
    },
    {
      "cell_type": "code",
      "metadata": {
        "id": "1lAdb_SbpUSt",
        "colab_type": "code",
        "colab": {
          "base_uri": "https://localhost:8080/",
          "height": 0
        },
        "outputId": "ebfbd5f4-ac05-4b79-f84a-9a775a5abb25"
      },
      "source": [
        "sacar_21(0,\"pokerC1\")"
      ],
      "execution_count": 4,
      "outputs": [
        {
          "output_type": "stream",
          "text": [
            "La probabilidad de completar 21 consecutivamente con una Baraja de Poker (Caso 1) es aproximadamente de: 14.41 % (partiendo con un puntaje de 0)\n"
          ],
          "name": "stdout"
        },
        {
          "output_type": "display_data",
          "data": {
            "image/png": "[encoded data removed]",
            "text/plain": [
              "<Figure size 432x288 with 1 Axes>"
            ]
          },
          "metadata": {
            "tags": [],
            "needs_background": "light"
          }
        }
      ]
    },
    {
      "cell_type": "markdown",
      "metadata": {
        "colab_type": "text",
        "id": "XZAg4foaqeHx"
      },
      "source": [
        "## **Punto 2**\n",
        "\n",
        "***Calculate the probability of getting a 21 drawing cards sequentially from shuffled Spanish deck and from a shuffled Poker deck.*** \\\\\n",
        "*(Case 2: Figures have the **same** value).*\n",
        "\n"
      ]
    },
    {
      "cell_type": "markdown",
      "metadata": {
        "colab_type": "text",
        "id": "TilVaBEaqeHy"
      },
      "source": [
        "Tenemos la misma función del punto anterior, pero esta vez tendremos `<case>` del parámetro `d` siempre en **C2**."
      ]
    },
    {
      "cell_type": "markdown",
      "metadata": {
        "colab_type": "text",
        "id": "T1nkuGZvqeH1"
      },
      "source": [
        "### *Baraja Española*"
      ]
    },
    {
      "cell_type": "code",
      "metadata": {
        "colab_type": "code",
        "id": "p0-v4LQSqeH2",
        "colab": {
          "base_uri": "https://localhost:8080/",
          "height": 0
        },
        "outputId": "57d4905e-72e4-4356-d53b-f4d9c8374b43"
      },
      "source": [
        "sacar_21(0,\"spanishC2\")"
      ],
      "execution_count": 5,
      "outputs": [
        {
          "output_type": "stream",
          "text": [
            "La probabilidad de completar 21 consecutivamente con una Baraja Española (Caso 2) es aproximadamente de: 16.830000000000002 % (partiendo con un puntaje de 0)\n"
          ],
          "name": "stdout"
        },
        {
          "output_type": "display_data",
          "data": {
            "image/png": "[encoded data removed]",
            "text/plain": [
              "<Figure size 432x288 with 1 Axes>"
            ]
          },
          "metadata": {
            "tags": [],
            "needs_background": "light"
          }
        }
      ]
    },
    {
      "cell_type": "markdown",
      "metadata": {
        "colab_type": "text",
        "id": "wm458ezsqeH4"
      },
      "source": [
        "### *Baraja de Poker*"
      ]
    },
    {
      "cell_type": "code",
      "metadata": {
        "colab_type": "code",
        "id": "BeFmTEOJqeH5",
        "colab": {
          "base_uri": "https://localhost:8080/",
          "height": 0
        },
        "outputId": "3238bebb-dc7c-4a42-da37-ab988c34258d"
      },
      "source": [
        "sacar_21(0,\"pokerC2\")"
      ],
      "execution_count": 6,
      "outputs": [
        {
          "output_type": "stream",
          "text": [
            "La probabilidad de completar 21 consecutivamente con una Baraja de Poker (Caso 2) es aproximadamente de: 13.91 % (partiendo con un puntaje de 0)\n"
          ],
          "name": "stdout"
        },
        {
          "output_type": "display_data",
          "data": {
            "image/png": "[encoded data removed]",
            "text/plain": [
              "<Figure size 432x288 with 1 Axes>"
            ]
          },
          "metadata": {
            "tags": [],
            "needs_background": "light"
          }
        }
      ]
    },
    {
      "cell_type": "markdown",
      "metadata": {
        "colab_type": "text",
        "id": "dUSI8eaYwHMz"
      },
      "source": [
        "## **Punto 3**\n",
        "\n",
        "***Calculate the probability of getting a 21, with the Spanish and Poker decks, assuming that you are in the middle of the game and the remaining deck has $\\tfrac{n}{2}$ cards and you have the cards $7,7,5$ in your hand.***\n",
        "\n"
      ]
    },
    {
      "cell_type": "markdown",
      "metadata": {
        "colab_type": "text",
        "id": "-Lg7RR0GwHM0"
      },
      "source": [
        "Para este punto es necesario definir una nueva función: `sacar_21_alter(deck_type, size, hand)`. El parámetro `deck_type` es el tipo de baraja que se usará: `spanish` para la **Baraja Española** y `poker` para la **Baraja de Póker**. El parámetro `size` es la cantidad de **cartas restantes** en la baraja. El parámetro `hand` es una lista de las cartas que el jugador actualmente tiene en su **mano**; estas cartas no aparecerán en la baraja por esta misma razón."
      ]
    },
    {
      "cell_type": "code",
      "metadata": {
        "id": "3wHQ9eTbyiwj",
        "colab_type": "code",
        "colab": {}
      },
      "source": [
        "def sacar_21_alter(deck_type, size, hand):\n",
        "  # Se inicializan algunas variables claves.\n",
        "  start_count = sum(hand)\n",
        "  successful_events = 0\n",
        "  rep = 10000\n",
        "\n",
        "  # Definición de las Barajas Completas\n",
        "  spanish_deck = [1,2,3,4,5,6,7,10,10,10,\n",
        "                  1,2,3,4,5,6,7,10,10,10,\n",
        "                  1,2,3,4,5,6,7,10,10,10,\n",
        "                  1,2,3,4,5,6,7,10,10,10]\n",
        "\n",
        "  poker_deck = [1,2,3,4,5,6,7,8,9,10,10,10,10,\n",
        "                1,2,3,4,5,6,7,8,9,10,10,10,10,\n",
        "                1,2,3,4,5,6,7,8,9,10,10,10,10,\n",
        "                1,2,3,4,5,6,7,8,9,10,10,10,10]\n",
        "\n",
        "  # Se selecciona el tipo de baraja deseado.\n",
        "  if deck_type == \"spanish\":\n",
        "    d = spanish_deck\n",
        "  if deck_type == \"poker\":\n",
        "    d = poker_deck\n",
        "\n",
        "  for i in hand:\n",
        "    d.remove(i)\n",
        "\n",
        "  # Lista del Número de Cartas que se necesitaron en la iteración para llegar a 21 exactos:\n",
        "  cards_to_win_list = []\n",
        "\n",
        "  for _ in range(rep):\n",
        "\n",
        "    # Se crea la baraja de la iteración.\n",
        "    deck = r.sample(d,size)\n",
        "\n",
        "    # Se establecen los puntos previos.\n",
        "    count = start_count\n",
        "    cards_to_win = 0\n",
        "    # Mientras no se llegue a 21 puntos o se pase, se sacan cartas del deck.\n",
        "    while True:\n",
        "      # Se toma una carta aleatoria (sin repetir la misma) del deck.\n",
        "      card = r.sample(deck,1)\n",
        "      # Se lleva la cuenta de la repetición con la nueva carta .\n",
        "      count += card[0]\n",
        "      # Se suma una carta para ganar.\n",
        "      cards_to_win += 1\n",
        "      if count == 21:\n",
        "        # Si se ganó, se suma la última carta y se suma a eventos exitosos.\n",
        "        successful_events += 1\n",
        "        break\n",
        "      elif count >= 21:\n",
        "        # Si el intento fue fallido, solo se pasa a la siguiente iteración.\n",
        "        break\n",
        "    # si se ganó, se agregan el numero de cartas que se necesitaron para ganar a la lista.\n",
        "    if count == 21:\n",
        "      cards_to_win_list.append(cards_to_win)\n",
        "  # se obtienen una tupla del numero de cartas que se necesitaron para ganar sin repetir\n",
        "  \"\"\"\n",
        "  Ejemplo:\n",
        "  cards_to_win_list = [1,1,1,2,1,2,2,2,3,3,3]\n",
        "  cards_to_win = list(set(cards_to_win_list)) ==> (1,2,3)\n",
        "  \"\"\"\n",
        "  cards_to_win = list(set(cards_to_win_list))\n",
        "  # Se crea una lista para el numero de veces que se necesito ese número de cartas para ganar.\n",
        "  n_cards = []\n",
        "  # Se cuenta el numero de veces que se necesito esa número de cartas para completar 21 y se agrega a la lista.\n",
        "  for card in cards_to_win:\n",
        "    n_cards.append(cards_to_win_list.count(card))\n",
        "\n",
        "  # Se hace el histograma.\n",
        "  chart = plt.bar(cards_to_win,n_cards,align='center',alpha=0.5)\n",
        "  plt.xticks(cards_to_win,cards_to_win)\n",
        "  plt.show\n",
        "\n",
        "  # Se calcula la probabilidad.\n",
        "  prob = (successful_events / rep)*100\n",
        "\n",
        "  # Se imprime el texto.\n",
        "  if deck_type == \"spanish\":\n",
        "    deck_name = \"Española\"\n",
        "  if deck_type == \"poker\":\n",
        "    deck_name = \"de Poker\"\n",
        "\n",
        "  print(\"La probabilidad de completar 21 con una Baraja {2} con {3} cartas restantes y teniendo {4} ({1} puntos) en la mano es aproximadamente de: {0} %\".format(prob, start_count, deck_name, size, hand))"
      ],
      "execution_count": 7,
      "outputs": []
    },
    {
      "cell_type": "markdown",
      "metadata": {
        "colab_type": "text",
        "id": "a7WSE80EwHM1"
      },
      "source": [
        "### *Baraja Española*"
      ]
    },
    {
      "cell_type": "code",
      "metadata": {
        "colab_type": "code",
        "id": "Qh6Oj9ufwHM1",
        "colab": {
          "base_uri": "https://localhost:8080/",
          "height": 0
        },
        "outputId": "7aaa6854-a63a-499e-be41-eb6c6d6da051"
      },
      "source": [
        "sacar_21_alter(\"spanish\", 20, [7,7,5])"
      ],
      "execution_count": 8,
      "outputs": [
        {
          "output_type": "stream",
          "text": [
            "La probabilidad de completar 21 con una Baraja Española con 20 cartas restantes y teniendo [7, 7, 5] (19 puntos) en la mano es aproximadamente de: 12.6 %\n"
          ],
          "name": "stdout"
        },
        {
          "output_type": "display_data",
          "data": {
            "image/png": "[encoded data removed]",
            "text/plain": [
              "<Figure size 432x288 with 1 Axes>"
            ]
          },
          "metadata": {
            "tags": [],
            "needs_background": "light"
          }
        }
      ]
    },
    {
      "cell_type": "markdown",
      "metadata": {
        "colab_type": "text",
        "id": "a1T8GMXOwHM4"
      },
      "source": [
        "### *Baraja de Poker*"
      ]
    },
    {
      "cell_type": "code",
      "metadata": {
        "colab_type": "code",
        "id": "GD9B4w7uwHM4",
        "colab": {
          "base_uri": "https://localhost:8080/",
          "height": 0
        },
        "outputId": "f63485d0-e12a-4308-ca33-f0dfbb298620"
      },
      "source": [
        "sacar_21_alter(\"poker\", 26, [7,7,5])"
      ],
      "execution_count": 9,
      "outputs": [
        {
          "output_type": "stream",
          "text": [
            "La probabilidad de completar 21 con una Baraja de Poker con 26 cartas restantes y teniendo [7, 7, 5] (19 puntos) en la mano es aproximadamente de: 8.85 %\n"
          ],
          "name": "stdout"
        },
        {
          "output_type": "display_data",
          "data": {
            "image/png": "[encoded data removed]",
            "text/plain": [
              "<Figure size 432x288 with 1 Axes>"
            ]
          },
          "metadata": {
            "tags": [],
            "needs_background": "light"
          }
        }
      ]
    },
    {
      "cell_type": "markdown",
      "metadata": {
        "colab_type": "text",
        "id": "hBMDo8J_cb7U"
      },
      "source": [
        "## **Punto 4**\n",
        "\n",
        "***Find the remaining decks for Spanish and Poker card decks, with the number of cards according to the list below, with highest (hot deck) and lowest (cold deck) probabilities of getting 21 assuming that you have cards [7,7,5]. Calculate the probabilities analytically and verify them with Montecarlo. Plot the experimental distribution of the numbers of card requires to complete 21 in 10.000 simulations.*** \\\\\n",
        "\n",
        "* *12 Remaining Cards*\n",
        "* *10 Remaining Cards*\n"
      ]
    },
    {
      "cell_type": "markdown",
      "metadata": {
        "id": "hBBj10qyuLEE",
        "colab_type": "text"
      },
      "source": [
        "> ***Definición:*** Una **Baraja Caliente** es aquella que contiene las 8 cartas con las que es posible lograr una 21 teniendo en cuenta que el valor de la mano es de 19: Cuatro Aces y Cuatro Doses.\n",
        "\n",
        "> ***Definición:*** una **Baraja Fría** es aquella que no contiene ninguna de estas ocho cartas."
      ]
    },
    {
      "cell_type": "markdown",
      "metadata": {
        "colab_type": "text",
        "id": "BKP9lG-Qcb7W"
      },
      "source": [
        "Suponiendo que tenemos originalmente barajas española y de poker de 40 y 52 cartas, respectivamente, en donde las figuras tienen el mismo valor (10).\n",
        "\n",
        "Si en nuestra mano tenemos las cartas $7,7,5$, eso significaría que las cartas disponibles en ambas barajas son 37 y 49, respectivamente.\n",
        "\n",
        "Esto significa que podemos tomar ese número de cartas y permutarlos en nuestro deck de cartas restantes de tamaño `n`, en donde `n` es un valor que depende del caso que estemos analizando, así:"
      ]
    },
    {
      "cell_type": "markdown",
      "metadata": {
        "colab_type": "text",
        "id": "mEW-qYsqcb7a"
      },
      "source": [
        "### *Baraja Española*"
      ]
    },
    {
      "cell_type": "markdown",
      "metadata": {
        "id": "s8UvLh-HmeBX",
        "colab_type": "text"
      },
      "source": [
        "#### **Caso 1: 12 Cartas Restantes**"
      ]
    },
    {
      "cell_type": "markdown",
      "metadata": {
        "id": "zcHnGgZLp9uI",
        "colab_type": "text"
      },
      "source": [
        "Para este caso, la cantidad total de barajas de 12 cartas que se pueden armar con las 37 cartas totales restantes es $\\boxed{P(37,12)}$.\n",
        "\n",
        "La cantidad de **barajas calientes** que se pueden formar es de $\\boxed{12! \\, \\ast \\, P(29,4)}$. El valor de $12!$ se refiere a todas las maneras en las que podemos organizar una baraja de 12 cartas con 8 cartas obligatorias (`1 1 1 1 2 2 2 2 _ _ _ _`). $P(29,4)$ se refiere a todas las formas que hay de llenar los 4 espacios restantes con las otras 29 cartas que no se han usado.\n",
        "\n",
        "La cantidad de **barajas frías** que se pueden formar es de $\\boxed{P(29,12)}$. Esto no es más que la permutación de las 29 cartas disponibles en los 12 espacios de la baraja que se deben llenar."
      ]
    },
    {
      "cell_type": "markdown",
      "metadata": {
        "id": "r4wps-dTqW-V",
        "colab_type": "text"
      },
      "source": [
        "\\begin{align*}\n",
        "  \\text{Total de Barajas Posibles} &= P(37,12) \\approx 8,87 \\ast 10^{17} \\\\\n",
        "  \\text{Total de Barajas Calientes} &= 12! \\, \\ast \\, P(29,4) \\approx 2,73 \\ast 10^{14} \\\\\n",
        "  \\text{Total de Barajas Frías} &= P(37,12) \\approx 8,87 \\ast 10^{17}\n",
        "\\end{align*}\n",
        "\n",
        "---\n",
        "\n",
        "\\begin{align*}\n",
        "  \\text{Total de Barajas Posibles} &= 100\\% \\\\\n",
        "  \\text{Total de Barajas Calientes} &\\approx 0,03\\% \\\\\n",
        "  \\text{Total de Barajas Frías} &\\approx 2,8\\%\n",
        "\\end{align*}"
      ]
    },
    {
      "cell_type": "code",
      "metadata": {
        "colab_type": "code",
        "id": "IhKtCJYCcb7a",
        "colab": {
          "base_uri": "https://localhost:8080/",
          "height": 0
        },
        "outputId": "4fb62d63-044b-47e5-c11e-eceba8a38aa2"
      },
      "source": [
        "sacar_21_alter(\"spanish\", 12, [7,7,5])"
      ],
      "execution_count": 10,
      "outputs": [
        {
          "output_type": "stream",
          "text": [
            "La probabilidad de completar 21 con una Baraja Española con 12 cartas restantes y teniendo [7, 7, 5] (19 puntos) en la mano es aproximadamente de: 13.0 %\n"
          ],
          "name": "stdout"
        },
        {
          "output_type": "display_data",
          "data": {
            "image/png": "[encoded data removed]",
            "text/plain": [
              "<Figure size 432x288 with 1 Axes>"
            ]
          },
          "metadata": {
            "tags": [],
            "needs_background": "light"
          }
        }
      ]
    },
    {
      "cell_type": "markdown",
      "metadata": {
        "colab_type": "text",
        "id": "Tw75LaFJsizB"
      },
      "source": [
        "#### **Caso 2: 10 Cartas Restantes**"
      ]
    },
    {
      "cell_type": "markdown",
      "metadata": {
        "colab_type": "text",
        "id": "Yj1nwn_RsizC"
      },
      "source": [
        "Para este caso, la cantidad total de barajas de 10 cartas que se pueden armar con las 37 cartas totales restantes es $\\boxed{P(37,10)}$.\n",
        "\n",
        "La cantidad de **barajas calientes** que se pueden formar es de $\\boxed{10! \\, \\ast \\, P(29,2)}$. El valor de $10!$ se refiere a todas las maneras en las que podemos organizar una baraja de 10 cartas con 8 cartas obligatorias (`1 1 1 1 2 2 2 2 _ _`). $P(29,2)$ se refiere a todas las formas que hay de llenar los 2 espacios restantes con las otras 29 cartas que no se han usado.\n",
        "\n",
        "La cantidad de **barajas frías** que se pueden formar es de $\\boxed{P(29,10)}$. Esto no es más que la permutación de las 29 cartas disponibles en los 10 espacios de la baraja que se deben llenar."
      ]
    },
    {
      "cell_type": "markdown",
      "metadata": {
        "colab_type": "text",
        "id": "wGevXpYKsizC"
      },
      "source": [
        "\\begin{align*}\n",
        "  \\text{Total de Barajas Posibles} &= P(37,10) \\approx 1,26 \\ast 10^{15} \\\\\n",
        "  \\text{Total de Barajas Calientes} &= 10! \\, \\ast \\, P(29,2) \\approx 2,95 \\ast 10^{9} \\\\\n",
        "  \\text{Total de Barajas Frías} &= P(29,10) \\approx 7,28 \\ast 10^{13}\n",
        "\\end{align*}\n",
        "\n",
        "---\n",
        "\n",
        "\\begin{align*}\n",
        "  \\text{Total de Barajas Posibles} &= 100\\% \\\\\n",
        "  \\text{Total de Barajas Calientes} &\\approx 0,0002\\% \\\\\n",
        "  \\text{Total de Barajas Frías} &\\approx 5,75\\%\n",
        "\\end{align*}"
      ]
    },
    {
      "cell_type": "code",
      "metadata": {
        "id": "xMT8mby4twGZ",
        "colab_type": "code",
        "colab": {
          "base_uri": "https://localhost:8080/",
          "height": 0
        },
        "outputId": "860d2abe-d989-4bba-8942-87c4f588a172"
      },
      "source": [
        "sacar_21_alter(\"spanish\", 10, [7,7,5])"
      ],
      "execution_count": 11,
      "outputs": [
        {
          "output_type": "stream",
          "text": [
            "La probabilidad de completar 21 con una Baraja Española con 10 cartas restantes y teniendo [7, 7, 5] (19 puntos) en la mano es aproximadamente de: 12.53 %\n"
          ],
          "name": "stdout"
        },
        {
          "output_type": "display_data",
          "data": {
            "image/png": "[encoded data removed]",
            "text/plain": [
              "<Figure size 432x288 with 1 Axes>"
            ]
          },
          "metadata": {
            "tags": [],
            "needs_background": "light"
          }
        }
      ]
    },
    {
      "cell_type": "markdown",
      "metadata": {
        "colab_type": "text",
        "id": "rc5QwpE2t8XB"
      },
      "source": [
        "### *Baraja de Poker*"
      ]
    },
    {
      "cell_type": "markdown",
      "metadata": {
        "colab_type": "text",
        "id": "NWvemFGKt8XC"
      },
      "source": [
        "#### **Caso 1: 12 Cartas Restantes**"
      ]
    },
    {
      "cell_type": "markdown",
      "metadata": {
        "colab_type": "text",
        "id": "CdfjAWiWt8XD"
      },
      "source": [
        "Para este caso, la cantidad total de barajas de 12 cartas que se pueden armar con las 49 cartas totales restantes es $\\boxed{P(49,12)}$.\n",
        "\n",
        "La cantidad de **barajas calientes** que se pueden formar es de $\\boxed{12! \\, \\ast \\, P(41,4)}$. El valor de $12!$ se refiere a todas las maneras en las que podemos organizar una baraja de 12 cartas con 8 cartas obligatorias (`1 1 1 1 2 2 2 2 _ _ _ _`). $P(41,4)$ se refiere a todas las formas que hay de llenar los 4 espacios restantes con las otras 41 cartas que no se han usado.\n",
        "\n",
        "La cantidad de **barajas frías** que se pueden formar es de $\\boxed{P(41,12)}$. Esto no es más que la permutación de las 41 cartas disponibles en los 12 espacios de la baraja que se deben llenar."
      ]
    },
    {
      "cell_type": "markdown",
      "metadata": {
        "colab_type": "text",
        "id": "8yryR0lbt8XD"
      },
      "source": [
        "\\begin{align*}\n",
        "  \\text{Total de Barajas Posibles} &= P(49,12) \\approx 4,41 \\ast 10^{19} \\\\\n",
        "  \\text{Total de Barajas Calientes} &= 12! \\, \\ast \\, P(41,4) \\approx 1,16 \\ast 10^{15} \\\\\n",
        "  \\text{Total de Barajas Frías} &= P(41,12) \\approx 3,78 \\ast 10^{18}\n",
        "\\end{align*}\n",
        "\n",
        "---\n",
        "\n",
        "\\begin{align*}\n",
        "  \\text{Total de Barajas Posibles} &= 100\\% \\\\\n",
        "  \\text{Total de Barajas Calientes} &\\approx 0,002\\% \\\\\n",
        "  \\text{Total de Barajas Frías} &\\approx 8,56\\%\n",
        "\\end{align*}"
      ]
    },
    {
      "cell_type": "code",
      "metadata": {
        "colab_type": "code",
        "id": "UrXt-to7t8XD",
        "colab": {
          "base_uri": "https://localhost:8080/",
          "height": 0
        },
        "outputId": "0aabd053-a7c1-4763-9077-63b644f64115"
      },
      "source": [
        "sacar_21_alter(\"poker\", 12, [7,7,5])"
      ],
      "execution_count": 12,
      "outputs": [
        {
          "output_type": "stream",
          "text": [
            "La probabilidad de completar 21 con una Baraja de Poker con 12 cartas restantes y teniendo [7, 7, 5] (19 puntos) en la mano es aproximadamente de: 9.9 %\n"
          ],
          "name": "stdout"
        },
        {
          "output_type": "display_data",
          "data": {
            "image/png": "[encoded data removed]",
            "text/plain": [
              "<Figure size 432x288 with 1 Axes>"
            ]
          },
          "metadata": {
            "tags": [],
            "needs_background": "light"
          }
        }
      ]
    },
    {
      "cell_type": "markdown",
      "metadata": {
        "colab_type": "text",
        "id": "AMrGTR2ct8XG"
      },
      "source": [
        "#### **Caso 2: 10 Cartas Restantes**"
      ]
    },
    {
      "cell_type": "markdown",
      "metadata": {
        "colab_type": "text",
        "id": "jUeQYUyMt8XG"
      },
      "source": [
        "Para este caso, la cantidad total de barajas de 10 cartas que se pueden armar con las 49 cartas totales restantes es $\\boxed{P(49,10)}$.\n",
        "\n",
        "La cantidad de **barajas calientes** que se pueden formar es de $\\boxed{10! \\, \\ast \\, P(41,2)}$. El valor de $10!$ se refiere a todas las maneras en las que podemos organizar una baraja de 10 cartas con 8 cartas obligatorias (`1 1 1 1 2 2 2 2 _ _`). $P(41,2)$ se refiere a todas las formas que hay de llenar los 2 espacios restantes con las otras 41 cartas que no se han usado.\n",
        "\n",
        "La cantidad de **barajas frías** que se pueden formar es de $\\boxed{P(41,10)}$. Esto no es más que la permutación de las 41 cartas disponibles en los 10 espacios de la baraja que se deben llenar."
      ]
    },
    {
      "cell_type": "markdown",
      "metadata": {
        "colab_type": "text",
        "id": "J1b7hp64t8XH"
      },
      "source": [
        "\\begin{align*}\n",
        "  \\text{Total de Barajas Posibles} &= P(49,10) \\approx 2,98 \\ast 10^{16} \\\\\n",
        "  \\text{Total de Barajas Calientes} &= 10! \\, \\ast \\, P(41,2) \\approx 5,95 \\ast 10^{9} \\\\\n",
        "  \\text{Total de Barajas Frías} &= P(41,10) \\approx 4,06 \\ast 10^{15}\n",
        "\\end{align*}\n",
        "\n",
        "---\n",
        "\n",
        "\\begin{align*}\n",
        "  \\text{Total de Barajas Posibles} &= 100\\% \\\\\n",
        "  \\text{Total de Barajas Calientes} &\\approx 0,00002\\% \\\\\n",
        "  \\text{Total de Barajas Frías} &\\approx 13,64\\%\n",
        "\\end{align*}"
      ]
    },
    {
      "cell_type": "code",
      "metadata": {
        "colab_type": "code",
        "id": "CycCsMvdt8XH",
        "colab": {
          "base_uri": "https://localhost:8080/",
          "height": 0
        },
        "outputId": "216dafa8-2fec-4aa2-e306-41d057962e03"
      },
      "source": [
        "sacar_21_alter(\"poker\", 10, [7,7,5])"
      ],
      "execution_count": 13,
      "outputs": [
        {
          "output_type": "stream",
          "text": [
            "La probabilidad de completar 21 con una Baraja de Poker con 10 cartas restantes y teniendo [7, 7, 5] (19 puntos) en la mano es aproximadamente de: 9.3 %\n"
          ],
          "name": "stdout"
        },
        {
          "output_type": "display_data",
          "data": {
            "image/png": "[encoded data removed]",
            "text/plain": [
              "<Figure size 432x288 with 1 Axes>"
            ]
          },
          "metadata": {
            "tags": [],
            "needs_background": "light"
          }
        }
      ]
    },
    {
      "cell_type": "markdown",
      "metadata": {
        "colab_type": "text",
        "id": "ilO1-I8CyRwC"
      },
      "source": [
        "## **Punto 5**\n",
        "\n",
        "***If Ben goes to Vegas every weekend (Friday, Saturday and Sunday), plays every weekend day 10 hours, each game takes 3 mins. He gets the cards $7,7,5$ and a remaining hot deck with probability $\\frac{1}{10}$. Asume that for cold decks the Ben has no cards and the remaining deck is the complete deck. He bets $\\$1000$ on hot decks and $\\$10$ on cold decks. What is the estimated amount of money that Ben wins or losses on a weekend?***\n",
        "\n"
      ]
    },
    {
      "cell_type": "markdown",
      "metadata": {
        "colab_type": "text",
        "id": "HRO9qbVQyRwD"
      },
      "source": [
        "> Apostando 10 horas al día, por 3 días, con partidas de 3 minutos, Ben juega **600** partidas en un fin de semana."
      ]
    },
    {
      "cell_type": "markdown",
      "metadata": {
        "id": "x2kJY1yJ_AST",
        "colab_type": "text"
      },
      "source": [
        "Primero, escogemos la cantidad de partidas frías y calientes que jugará de esas 600 totales. Esto se hace sabiendo que la probabilidad de que una partida sea caliente es de $10\\%$"
      ]
    },
    {
      "cell_type": "code",
      "metadata": {
        "id": "B06QXtH78dEB",
        "colab_type": "code",
        "colab": {}
      },
      "source": [
        "# Escoger el tipo de juego (Hot 10% or Cold 90%):\n",
        "game_type = [0,0,0,0,0,0,0,0,0,1]\n",
        "\n",
        "total_games = [0,0]\n",
        "\n",
        "for p in range(600):\n",
        "  if r.choice(game_type) == 1:\n",
        "    total_games[0] += 1\n",
        "  else:\n",
        "    total_games[1] += 1"
      ],
      "execution_count": 14,
      "outputs": []
    },
    {
      "cell_type": "markdown",
      "metadata": {
        "id": "H61dox9i_WH3",
        "colab_type": "text"
      },
      "source": [
        "Definimos las funciones para calcular la probabilidad de cada tipo de partida:"
      ]
    },
    {
      "cell_type": "code",
      "metadata": {
        "id": "n-YdPfB34rgW",
        "colab_type": "code",
        "colab": {}
      },
      "source": [
        "def sacar_21_caliente(deck_type, size, hand, rep):\n",
        "  # Se inicializan algunas variables claves.\n",
        "  start_count = sum(hand)\n",
        "  successful_events = 0\n",
        "\n",
        "  # Definición de las Barajas Completas\n",
        "  spanish_deck = [1,2,3,4,5,6,7,10,10,10,\n",
        "                  1,2,3,4,5,6,7,10,10,10,\n",
        "                  1,2,3,4,5,6,7,10,10,10,\n",
        "                  1,2,3,4,5,6,7,10,10,10]\n",
        "\n",
        "  poker_deck = [1,2,3,4,5,6,7,8,9,10,10,10,10,\n",
        "                1,2,3,4,5,6,7,8,9,10,10,10,10,\n",
        "                1,2,3,4,5,6,7,8,9,10,10,10,10,\n",
        "                1,2,3,4,5,6,7,8,9,10,10,10,10]\n",
        "\n",
        "  # Se selecciona el tipo de baraja deseado.\n",
        "  if deck_type == \"spanish\":\n",
        "    d = spanish_deck\n",
        "  if deck_type == \"poker\":\n",
        "    d = poker_deck\n",
        "\n",
        "  # Se retiran del deck las cartas de la mano.\n",
        "  for i in hand:\n",
        "    d.remove(i)\n",
        "\n",
        "  # Se retiran las cartas obligatorias (1 y 2)\n",
        "  hot_cards = [1,1,1,1,2,2,2,2]\n",
        "  for i in hot_cards:\n",
        "    d.remove(i)\n",
        "\n",
        "  # Lista del Número de Cartas que se necesitaron en la iteración para llegar a 21 exactos:\n",
        "  cards_to_win_list = []\n",
        "\n",
        "  for _ in range(rep):\n",
        "\n",
        "    # Se crea la baraja caliente de la iteración.\n",
        "    deck = hot_cards + r.sample(d,size - 8)\n",
        "\n",
        "    # Se establecen los puntos previos.\n",
        "    count = start_count\n",
        "    cards_to_win = 0\n",
        "    # Mientras no se llegue a 21 puntos o se pase, se sacan cartas del deck.\n",
        "    while True:\n",
        "      # Se toma una carta aleatoria (sin repetir la misma) del deck.\n",
        "      card = r.sample(deck,1)\n",
        "      # Se lleva la cuenta de la repetición con la nueva carta .\n",
        "      count += card[0]\n",
        "      # Se suma una carta para ganar.\n",
        "      cards_to_win += 1\n",
        "      if count == 21:\n",
        "        # Si se ganó, se suma la última carta y se suma a eventos exitosos.\n",
        "        successful_events += 1\n",
        "        break\n",
        "      elif count >= 21:\n",
        "        # Si el intento fue fallido, solo se pasa a la siguiente iteración.\n",
        "        break\n",
        "    # si se ganó, se agregan el numero de cartas que se necesitaron para ganar a la lista.\n",
        "    if count == 21:\n",
        "      cards_to_win_list.append(cards_to_win)\n",
        "  # se obtienen una tupla del numero de cartas que se necesitaron para ganar sin repetir\n",
        "  \"\"\"\n",
        "  Ejemplo:\n",
        "  cards_to_win_list = [1,1,1,2,1,2,2,2,3,3,3]\n",
        "  cards_to_win = list(set(cards_to_win_list)) ==> (1,2,3)\n",
        "  \"\"\"\n",
        "  cards_to_win = list(set(cards_to_win_list))\n",
        "  # Se crea una lista para el numero de veces que se necesito ese número de cartas para ganar.\n",
        "  n_cards = []\n",
        "  # Se cuenta el numero de veces que se necesito esa número de cartas para completar 21 y se agrega a la lista.\n",
        "  for card in cards_to_win:\n",
        "    n_cards.append(cards_to_win_list.count(card))\n",
        "\n",
        "  # Se hace el histograma.\n",
        "  chart = plt.bar(cards_to_win,n_cards,align='center',alpha=0.5)\n",
        "  plt.xticks(cards_to_win,cards_to_win)\n",
        "  plt.show\n",
        "\n",
        "  # Se calcula la probabilidad.\n",
        "  prob = (successful_events / rep)*100\n",
        "\n",
        "  # Se imprime el texto.\n",
        "  if deck_type == \"spanish\":\n",
        "    deck_name = \"Española\"\n",
        "  if deck_type == \"poker\":\n",
        "    deck_name = \"de Poker\"\n",
        "\n",
        "  print(\"La probabilidad de completar 21 con una Baraja {2} caliente con {3} cartas restantes y teniendo {4} ({1} puntos) en la mano es aproximadamente de: {0} % con {5} intentos\".format(prob, start_count, deck_name, size, hand, rep))\n",
        "  return prob"
      ],
      "execution_count": 15,
      "outputs": []
    },
    {
      "cell_type": "code",
      "metadata": {
        "id": "DABY6bBxz4pr",
        "colab_type": "code",
        "colab": {}
      },
      "source": [
        "def sacar_21_fria(deck_type,rep):\n",
        "  # Se inicializan algunas variables claves.\n",
        "  start_count = 0\n",
        "  successful_events = 0\n",
        "\n",
        "  # Definición de las Barajas Completas\n",
        "  spanish_deck = [1,2,3,4,5,6,7,10,10,10,\n",
        "                  1,2,3,4,5,6,7,10,10,10,\n",
        "                  1,2,3,4,5,6,7,10,10,10,\n",
        "                  1,2,3,4,5,6,7,10,10,10]\n",
        "\n",
        "  poker_deck = [1,2,3,4,5,6,7,8,9,10,10,10,10,\n",
        "                1,2,3,4,5,6,7,8,9,10,10,10,10,\n",
        "                1,2,3,4,5,6,7,8,9,10,10,10,10,\n",
        "                1,2,3,4,5,6,7,8,9,10,10,10,10]\n",
        "\n",
        "  # Se selecciona el tipo de baraja deseado.\n",
        "  if deck_type == \"spanish\":\n",
        "    deck = spanish_deck\n",
        "  if deck_type == \"poker\":\n",
        "    deck = poker_deck\n",
        "\n",
        "  # Lista del Número de Cartas que se necesitaron en la iteración para llegar a 21 exactos:\n",
        "  cards_to_win_list = []\n",
        "\n",
        "  for _ in range(rep):\n",
        "\n",
        "    # Se establecen los puntos previos.\n",
        "    count = start_count\n",
        "    cards_to_win = 0\n",
        "    # Mientras no se llegue a 21 puntos o se pase, se sacan cartas del deck.\n",
        "    while True:\n",
        "      # Se toma una carta aleatoria (sin repetir la misma) del deck.\n",
        "      card = r.sample(deck,1)\n",
        "      # Se lleva la cuenta de la repetición con la nueva carta .\n",
        "      count += card[0]\n",
        "      # Se suma una carta para ganar.\n",
        "      cards_to_win += 1\n",
        "      if count == 21:\n",
        "        # Si se ganó, se suma la última carta y se suma a eventos exitosos.\n",
        "        successful_events += 1\n",
        "        break\n",
        "      elif count >= 21:\n",
        "        # Si el intento fue fallido, solo se pasa a la siguiente iteración.\n",
        "        break\n",
        "    # si se ganó, se agregan el numero de cartas que se necesitaron para ganar a la lista.\n",
        "    if count == 21:\n",
        "      cards_to_win_list.append(cards_to_win)\n",
        "  # se obtienen una tupla del numero de cartas que se necesitaron para ganar sin repetir\n",
        "  \"\"\"\n",
        "  Ejemplo:\n",
        "  cards_to_win_list = [1,1,1,2,1,2,2,2,3,3,3]\n",
        "  cards_to_win = list(set(cards_to_win_list)) ==> (1,2,3)\n",
        "  \"\"\"\n",
        "  cards_to_win = list(set(cards_to_win_list))\n",
        "  # Se crea una lista para el numero de veces que se necesito ese número de cartas para ganar.\n",
        "  n_cards = []\n",
        "  # Se cuenta el numero de veces que se necesito esa número de cartas para completar 21 y se agrega a la lista.\n",
        "  for card in cards_to_win:\n",
        "    n_cards.append(cards_to_win_list.count(card))\n",
        "\n",
        "  # Se hace el histograma.\n",
        "  chart = plt.bar(cards_to_win,n_cards,align='center',alpha=0.5)\n",
        "  plt.xticks(cards_to_win,cards_to_win)\n",
        "  plt.show\n",
        "\n",
        "  # Se calcula la probabilidad.\n",
        "  prob = (successful_events / rep)*100\n",
        "\n",
        "  # Se imprime el texto.\n",
        "  if deck_type == \"spanish\":\n",
        "    deck_name = \"Española\"\n",
        "  if deck_type == \"poker\":\n",
        "    deck_name = \"de Poker\"\n",
        "\n",
        "  print(\"La probabilidad de completar 21 con una Baraja {1} fría es aproximadamente de: {0} % con {2} intentos\".format(prob, deck_name, rep))\n",
        "  return prob"
      ],
      "execution_count": 16,
      "outputs": []
    },
    {
      "cell_type": "markdown",
      "metadata": {
        "colab_type": "text",
        "id": "YvQ58m9iyRwE"
      },
      "source": [
        "### *Baraja Española*"
      ]
    },
    {
      "cell_type": "markdown",
      "metadata": {
        "id": "u_oZOANo_fc2",
        "colab_type": "text"
      },
      "source": [
        "Se juegan todas las partidas con la **Baraja Española**:"
      ]
    },
    {
      "cell_type": "code",
      "metadata": {
        "id": "58xIyHP_zKrk",
        "colab_type": "code",
        "colab": {
          "base_uri": "https://localhost:8080/",
          "height": 0
        },
        "outputId": "b11e2ac9-7695-4346-a96a-8e584583effb"
      },
      "source": [
        "cal = sacar_21_caliente(\"spanish\", 10, [7,7,5], total_games[0])\n",
        "cal;"
      ],
      "execution_count": 17,
      "outputs": [
        {
          "output_type": "stream",
          "text": [
            "La probabilidad de completar 21 con una Baraja Española caliente con 10 cartas restantes y teniendo [7, 7, 5] (19 puntos) en la mano es aproximadamente de: 52.63157894736842 % con 57 intentos\n"
          ],
          "name": "stdout"
        },
        {
          "output_type": "display_data",
          "data": {
            "image/png": "[encoded data removed]",
            "text/plain": [
              "<Figure size 432x288 with 1 Axes>"
            ]
          },
          "metadata": {
            "tags": [],
            "needs_background": "light"
          }
        }
      ]
    },
    {
      "cell_type": "code",
      "metadata": {
        "id": "JdDMeBK58ZeD",
        "colab_type": "code",
        "colab": {
          "base_uri": "https://localhost:8080/",
          "height": 0
        },
        "outputId": "a0dd5498-9bac-4be3-f4a7-a7d70ef8e6ce"
      },
      "source": [
        "fri = sacar_21_fria(\"spanish\", total_games[1])\n",
        "fri;"
      ],
      "execution_count": 18,
      "outputs": [
        {
          "output_type": "stream",
          "text": [
            "La probabilidad de completar 21 con una Baraja Española fría es aproximadamente de: 14.3646408839779 % con 543 intentos\n"
          ],
          "name": "stdout"
        },
        {
          "output_type": "display_data",
          "data": {
            "image/png": "[encoded data removed]",
            "text/plain": [
              "<Figure size 432x288 with 1 Axes>"
            ]
          },
          "metadata": {
            "tags": [],
            "needs_background": "light"
          }
        }
      ]
    },
    {
      "cell_type": "markdown",
      "metadata": {
        "id": "2wUCNH2q_nzW",
        "colab_type": "text"
      },
      "source": [
        "Y se calcula el saldo final de Ben teniendo en cuenta que la probabilidad de ganar un tipo de partida es el porcentaje de partidas ganadas en ese tipo de partida (caliente o fría):"
      ]
    },
    {
      "cell_type": "code",
      "metadata": {
        "id": "Xid8mYow8xsj",
        "colab_type": "code",
        "colab": {}
      },
      "source": [
        "def calcular_saldo (pCal, pFri, intentos):\n",
        "\n",
        "  winCal = (pCal/100) * intentos[0]\n",
        "  losCal = intentos[0] - winCal\n",
        "  winFri = (pFri/100) * intentos[1]\n",
        "  losFri = intentos[1] - winFri\n",
        "\n",
        "  saldo = 0\n",
        "  saldo = (winCal*1000) + (winFri*10) - (losCal*1000) - (losFri*10)\n",
        "\n",
        "  print(\"Las ganancias totales de Ben jugando con la Baraja Española fueron: {0}\".format(saldo))"
      ],
      "execution_count": 19,
      "outputs": []
    },
    {
      "cell_type": "code",
      "metadata": {
        "id": "Tu0c65_y-Jgv",
        "colab_type": "code",
        "colab": {
          "base_uri": "https://localhost:8080/",
          "height": 0
        },
        "outputId": "a80f4047-0dee-4b1c-9c9a-eec4b46d7df5"
      },
      "source": [
        "calcular_saldo(cal, fri, total_games)"
      ],
      "execution_count": 20,
      "outputs": [
        {
          "output_type": "stream",
          "text": [
            "Las ganancias totales de Ben jugando con la Baraja Española fueron: -870.0\n"
          ],
          "name": "stdout"
        }
      ]
    },
    {
      "cell_type": "markdown",
      "metadata": {
        "colab_type": "text",
        "id": "LnaeO1e3ARaG"
      },
      "source": [
        "### *Baraja de Poker*"
      ]
    },
    {
      "cell_type": "markdown",
      "metadata": {
        "colab_type": "text",
        "id": "ZiFSEeX6ARaH"
      },
      "source": [
        "Se juegan todas las partidas con la **Baraja de Poker**:"
      ]
    },
    {
      "cell_type": "code",
      "metadata": {
        "colab_type": "code",
        "id": "MIipIQwlARaI",
        "colab": {
          "base_uri": "https://localhost:8080/",
          "height": 0
        },
        "outputId": "cadcf3ec-2a7a-4710-d37e-868b6442739c"
      },
      "source": [
        "cal = sacar_21_caliente(\"poker\", 10, [7,7,5], total_games[0])\n",
        "cal;"
      ],
      "execution_count": 21,
      "outputs": [
        {
          "output_type": "stream",
          "text": [
            "La probabilidad de completar 21 con una Baraja de Poker caliente con 10 cartas restantes y teniendo [7, 7, 5] (19 puntos) en la mano es aproximadamente de: 43.859649122807014 % con 57 intentos\n"
          ],
          "name": "stdout"
        },
        {
          "output_type": "display_data",
          "data": {
            "image/png": "[encoded data removed]",
            "text/plain": [
              "<Figure size 432x288 with 1 Axes>"
            ]
          },
          "metadata": {
            "tags": [],
            "needs_background": "light"
          }
        }
      ]
    },
    {
      "cell_type": "code",
      "metadata": {
        "colab_type": "code",
        "id": "qiaRXkx9ARaL",
        "colab": {
          "base_uri": "https://localhost:8080/",
          "height": 0
        },
        "outputId": "83405c7b-5fac-4175-f50a-3ee58de5d4a9"
      },
      "source": [
        "fri = sacar_21_fria(\"poker\", total_games[1])\n",
        "fri;"
      ],
      "execution_count": 22,
      "outputs": [
        {
          "output_type": "stream",
          "text": [
            "La probabilidad de completar 21 con una Baraja de Poker fría es aproximadamente de: 13.627992633517497 % con 543 intentos\n"
          ],
          "name": "stdout"
        },
        {
          "output_type": "display_data",
          "data": {
            "image/png": "[encoded data removed]",
            "text/plain": [
              "<Figure size 432x288 with 1 Axes>"
            ]
          },
          "metadata": {
            "tags": [],
            "needs_background": "light"
          }
        }
      ]
    },
    {
      "cell_type": "markdown",
      "metadata": {
        "colab_type": "text",
        "id": "WoG5VCqSARaN"
      },
      "source": [
        "Y se calcula el saldo final de Ben teniendo en cuenta que la probabilidad de ganar un tipo de partida es el porcentaje de partidas ganadas en ese tipo de partida (caliente o fría):"
      ]
    },
    {
      "cell_type": "code",
      "metadata": {
        "colab_type": "code",
        "id": "BXNzPga4ARaO",
        "colab": {}
      },
      "source": [
        "def calcular_saldo (pCal, pFri, intentos):\n",
        "\n",
        "  winCal = (pCal/100) * intentos[0]\n",
        "  losCal = intentos[0] - winCal\n",
        "  winFri = (pFri/100) * intentos[1]\n",
        "  losFri = intentos[1] - winFri\n",
        "\n",
        "  saldo = 0\n",
        "  saldo = (winCal*1000) + (winFri*10) - (losCal*1000) - (losFri*10)\n",
        "\n",
        "  print(\"Las ganancias totales de Ben jugando con la Baraja de Poker fueron: {0}\".format(saldo))"
      ],
      "execution_count": 23,
      "outputs": []
    },
    {
      "cell_type": "code",
      "metadata": {
        "colab_type": "code",
        "id": "wqXzvB3CARaQ",
        "colab": {
          "base_uri": "https://localhost:8080/",
          "height": 0
        },
        "outputId": "774af553-472b-48a7-96ed-d4adbe8458b2"
      },
      "source": [
        "calcular_saldo(cal, fri, total_games)"
      ],
      "execution_count": 24,
      "outputs": [
        {
          "output_type": "stream",
          "text": [
            "Las ganancias totales de Ben jugando con la Baraja de Poker fueron: -10950.0\n"
          ],
          "name": "stdout"
        }
      ]
    }
  ]
}