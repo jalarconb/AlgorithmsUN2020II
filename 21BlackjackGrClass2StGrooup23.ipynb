{
  "nbformat": 4,
  "nbformat_minor": 0,
  "metadata": {
    "colab": {
      "name": "Blackjack.ipynb",
      "provenance": [],
      "collapsed_sections": [
        "R9tB0-ZWjEJP",
        "LLyVwGIOkD8Q",
        "O8BaEsVTpS68",
        "XZAg4foaqeHx",
        "T1nkuGZvqeH1",
        "wm458ezsqeH4",
        "dUSI8eaYwHMz",
        "a7WSE80EwHM1",
        "a1T8GMXOwHM4",
        "hBMDo8J_cb7U",
        "mEW-qYsqcb7a",
        "s8UvLh-HmeBX",
        "Tw75LaFJsizB",
        "rc5QwpE2t8XB",
        "NWvemFGKt8XC",
        "AMrGTR2ct8XG",
        "ilO1-I8CyRwC",
        "YvQ58m9iyRwE",
        "LnaeO1e3ARaG"
      ]
    },
    "kernelspec": {
      "name": "python3",
      "display_name": "Python 3"
    }
  },
  "cells": [
    {
      "cell_type": "markdown",
      "metadata": {
        "id": "IUGsJaunj0fv"
      },
      "source": [
        "# **LAB 4 - MONTECARLO/BLACKJACK**\n",
        "\n",
        "* **Juan Esteban Alarcón Bravo** \\\\\n",
        "* **Juan Sebastián Ruiz Sánchez** \\\\\n",
        "* **Xamir Ernesto Rojas Gamboa**"
      ]
    },
    {
      "cell_type": "markdown",
      "metadata": {
        "id": "uGITqYgSkeyC"
      },
      "source": [
        "---\n",
        "\n",
        "*Imports previos al desarrollo*"
      ]
    },
    {
      "cell_type": "code",
      "metadata": {
        "id": "QBuuS5dXi0u0"
      },
      "source": [
        "import random as r\n",
        "import matplotlib.pyplot as plt\n",
        "import collections"
      ],
      "execution_count": 1,
      "outputs": []
    },
    {
      "cell_type": "markdown",
      "metadata": {
        "id": "KRX7qp1avcBF"
      },
      "source": [
        "---"
      ]
    },
    {
      "cell_type": "markdown",
      "metadata": {
        "id": "R9tB0-ZWjEJP"
      },
      "source": [
        "## **Punto 1**\n",
        "\n",
        "***Calculate the probability of getting a 21 drawing cards sequentially from shuffled Spanish deck and from a shuffled Poker deck.*** \\\\\n",
        "*(Case 1: Figures have **different** value).*"
      ]
    },
    {
      "cell_type": "markdown",
      "metadata": {
        "id": "znGlJqv0mZKK"
      },
      "source": [
        "Definimos la función encargada de determinar la probabilidad de obtención de una 21, llamada `sacar_21(start_count,d)`. El parámetro `start_count` es el valor total de las cartas en la mano. El parámetro `d` determina el tipo de baraja que se usará. Este parámetro tiene la forma `\"<deck><case>\"`, en donde `<deck>` puede ser `spanish` para la **Baraja Española** de 48 Cartas o `poker` para la **Baraja de Poker** de 52 cartas y `<case>` puede ser `C1` para el **Caso 1** (en donde todas las figuras toman valores diferentes) o `C2` para el **Caso 2** (en donde todas las figuras toman el mismo valor). \\\\\n",
        "\n",
        "Para este punto es necesario que `<case>` de `d` sea siempre **C1** y que `start_count` sea **0** (ya que la mano está vacía)."
      ]
    },
    {
      "cell_type": "code",
      "metadata": {
        "id": "6gVjv0bdk63M"
      },
      "source": [
        "def sacar_21(start_count,d):\n",
        "  # Se inicializan algunas variables claves.\n",
        "  successful_events = 0\n",
        "  rep = 10000000\n",
        "\n",
        "  # Definición de las distintas Barajas\n",
        "  spanish_deckC1 = [1,2,3,4,5,6,7,8,9,10,11,12,\n",
        "                    1,2,3,4,5,6,7,8,9,10,11,12,\n",
        "                    1,2,3,4,5,6,7,8,9,10,11,12,\n",
        "                    1,2,3,4,5,6,7,8,9,10,11,12]\n",
        "\n",
        "  poker_deckC1 = [1,2,3,4,5,6,7,8,9,10,11,12,13,\n",
        "                  1,2,3,4,5,6,7,8,9,10,11,12,13,\n",
        "                  1,2,3,4,5,6,7,8,9,10,11,12,13,\n",
        "                  1,2,3,4,5,6,7,8,9,10,11,12,13]\n",
        "\n",
        "  spanish_deckC2 = [1,2,3,4,5,6,7,8,9,10,10,10,\n",
        "                    1,2,3,4,5,6,7,8,9,10,10,10,\n",
        "                    1,2,3,4,5,6,7,8,9,10,10,10,\n",
        "                    1,2,3,4,5,6,7,8,9,10,10,10]\n",
        "\n",
        "  poker_deckC2 = [1,2,3,4,5,6,7,8,9,10,10,10,10,\n",
        "                  1,2,3,4,5,6,7,8,9,10,10,10,10,\n",
        "                  1,2,3,4,5,6,7,8,9,10,10,10,10,\n",
        "                  1,2,3,4,5,6,7,8,9,10,10,10,10]\n",
        "\n",
        "  # Lista del Número de Cartas que se necesitaron en la iteración para llegar a 21 exactos:\n",
        "  cards_to_win_list = []\n",
        "\n",
        "  # Se crea la baraja de la simulación\n",
        "  if d == \"spanishC1\":\n",
        "    deck_sim = spanish_deckC1\n",
        "  if d == \"pokerC1\":\n",
        "    deck_sim = poker_deckC1\n",
        "  if d == \"spanishC2\":\n",
        "    deck_sim = spanish_deckC2\n",
        "  if d == \"pokerC2\":\n",
        "    deck_sim = poker_deckC2\n",
        "\n",
        "  for _ in range(rep):\n",
        "\n",
        "    # Se inicializa la baraja de la iteración.\n",
        "    deck = deck_sim.copy()\n",
        "\n",
        "    # Se establecen los puntos previos.\n",
        "    count = start_count\n",
        "    cards_to_win = 0\n",
        "    \n",
        "    # Mientras no se llegue a 21 puntos o se pase, se sacan cartas del deck.\n",
        "    while count < 21:\n",
        "      # Se toma una carta aleatoria (sin repetir la misma) del deck.\n",
        "      card = r.choice(deck)\n",
        "      deck.remove(card)\n",
        "      # Se lleva la cuenta de la repetición con la nueva carta .\n",
        "      count += card\n",
        "      # Se suma una carta para ganar.\n",
        "      cards_to_win += 1\n",
        "    \n",
        "    # si se ganó, se agregan el numero de cartas que se necesitaron para ganar a la lista.\n",
        "    if count == 21:\n",
        "      successful_events += 1\n",
        "      cards_to_win_list.append(cards_to_win)\n",
        "\n",
        "  # se obtienen una tupla del numero de cartas que se necesitaron para ganar sin repetir\n",
        "  \"\"\"\n",
        "  Ejemplo:\n",
        "  cards_to_win_list = [1,1,1,2,1,2,2,2,3,3,3]\n",
        "  cards_to_win = list(set(cards_to_win_list)) ==> (1,2,3)\n",
        "  \"\"\"\n",
        "  cards_to_win = list(set(cards_to_win_list))\n",
        "  # Se crea una lista para el numero de veces que se necesito ese número de cartas para ganar.\n",
        "  n_cards = []\n",
        "  # Se cuenta el numero de veces que se necesito esa número de cartas para completar 21 y se agrega a la lista.\n",
        "  for card in cards_to_win:\n",
        "    n_cards.append(cards_to_win_list.count(card))\n",
        "\n",
        "  # Se hace el histograma.\n",
        "  chart = plt.bar(cards_to_win,n_cards,align='center',alpha=0.5)\n",
        "  plt.xticks(cards_to_win,cards_to_win)\n",
        "  plt.show\n",
        "\n",
        "  # Se calcula la probabilidad.\n",
        "  prob = (successful_events / rep)*100\n",
        "\n",
        "  # Se imprime el texto.\n",
        "  if d == \"spanishC1\":\n",
        "    deck_name = \"Española (Caso 1)\"\n",
        "  if d == \"pokerC1\":\n",
        "    deck_name = \"de Poker (Caso 1)\"\n",
        "  if d == \"spanishC2\":\n",
        "    deck_name = \"Española (Caso 2)\"\n",
        "  if d == \"pokerC2\":\n",
        "    deck_name = \"de Poker (Caso 2)\"\n",
        "  print(\"La probabilidad de completar 21 consecutivamente con una Baraja {2} es aproximadamente de: {0} % (partiendo con un puntaje de {1})\".format(prob,start_count,deck_name))"
      ],
      "execution_count": 2,
      "outputs": []
    },
    {
      "cell_type": "markdown",
      "metadata": {
        "id": "LLyVwGIOkD8Q"
      },
      "source": [
        "### *Baraja Española*"
      ]
    },
    {
      "cell_type": "code",
      "metadata": {
        "id": "MYqPPKzqpOir",
        "outputId": "2ce6f331-c553-4fde-9eb9-435ce6f99fca",
        "colab": {
          "base_uri": "https://localhost:8080/",
          "height": 282
        }
      },
      "source": [
        "sacar_21(0,\"spanishC1\")"
      ],
      "execution_count": 3,
      "outputs": [
        {
          "output_type": "stream",
          "text": [
            "La probabilidad de completar 21 consecutivamente con una Baraja Española (Caso 1) es aproximadamente de: 15.761330000000001 % (partiendo con un puntaje de 0)\n"
          ],
          "name": "stdout"
        },
        {
          "output_type": "display_data",
          "data": {
            "image/png": "[encoded data removed]",
            "text/plain": [
              "<Figure size 432x288 with 1 Axes>"
            ]
          },
          "metadata": {
            "tags": [],
            "needs_background": "light"
          }
        }
      ]
    },
    {
      "cell_type": "markdown",
      "metadata": {
        "id": "O8BaEsVTpS68"
      },
      "source": [
        "### *Baraja de Poker*"
      ]
    },
    {
      "cell_type": "code",
      "metadata": {
        "id": "1lAdb_SbpUSt",
        "outputId": "066966eb-40cd-401e-8a8f-79b516e0f9d7",
        "colab": {
          "base_uri": "https://localhost:8080/",
          "height": 282
        }
      },
      "source": [
        "sacar_21(0,\"pokerC1\")"
      ],
      "execution_count": 4,
      "outputs": [
        {
          "output_type": "stream",
          "text": [
            "La probabilidad de completar 21 consecutivamente con una Baraja de Poker (Caso 1) es aproximadamente de: 14.465910000000001 % (partiendo con un puntaje de 0)\n"
          ],
          "name": "stdout"
        },
        {
          "output_type": "display_data",
          "data": {
            "image/png": "[encoded data removed]",
            "text/plain": [
              "<Figure size 432x288 with 1 Axes>"
            ]
          },
          "metadata": {
            "tags": [],
            "needs_background": "light"
          }
        }
      ]
    },
    {
      "cell_type": "markdown",
      "metadata": {
        "id": "XZAg4foaqeHx"
      },
      "source": [
        "## **Punto 2**\n",
        "\n",
        "***Calculate the probability of getting a 21 drawing cards sequentially from shuffled Spanish deck and from a shuffled Poker deck.*** \\\\\n",
        "*(Case 2: Figures have the **same** value).*\n",
        "\n"
      ]
    },
    {
      "cell_type": "markdown",
      "metadata": {
        "id": "TilVaBEaqeHy"
      },
      "source": [
        "Tenemos la misma función del punto anterior, pero esta vez tendremos `<case>` del parámetro `d` siempre en **C2**."
      ]
    },
    {
      "cell_type": "markdown",
      "metadata": {
        "id": "T1nkuGZvqeH1"
      },
      "source": [
        "### *Baraja Española*"
      ]
    },
    {
      "cell_type": "code",
      "metadata": {
        "id": "p0-v4LQSqeH2",
        "outputId": "1eb4c21f-3715-4cac-81a1-140fb8627ef6",
        "colab": {
          "base_uri": "https://localhost:8080/",
          "height": 282
        }
      },
      "source": [
        "sacar_21(0,\"spanishC2\")"
      ],
      "execution_count": 5,
      "outputs": [
        {
          "output_type": "stream",
          "text": [
            "La probabilidad de completar 21 consecutivamente con una Baraja Española (Caso 2) es aproximadamente de: 14.96764 % (partiendo con un puntaje de 0)\n"
          ],
          "name": "stdout"
        },
        {
          "output_type": "display_data",
          "data": {
            "image/png": "[encoded data removed]",
            "text/plain": [
              "<Figure size 432x288 with 1 Axes>"
            ]
          },
          "metadata": {
            "tags": [],
            "needs_background": "light"
          }
        }
      ]
    },
    {
      "cell_type": "markdown",
      "metadata": {
        "id": "wm458ezsqeH4"
      },
      "source": [
        "### *Baraja de Poker*"
      ]
    },
    {
      "cell_type": "code",
      "metadata": {
        "id": "BeFmTEOJqeH5",
        "outputId": "a12bc666-9d2d-4b9b-d414-47fbd4f721a2",
        "colab": {
          "base_uri": "https://localhost:8080/",
          "height": 282
        }
      },
      "source": [
        "sacar_21(0,\"pokerC2\")"
      ],
      "execution_count": 6,
      "outputs": [
        {
          "output_type": "stream",
          "text": [
            "La probabilidad de completar 21 consecutivamente con una Baraja de Poker (Caso 2) es aproximadamente de: 14.000960000000001 % (partiendo con un puntaje de 0)\n"
          ],
          "name": "stdout"
        },
        {
          "output_type": "display_data",
          "data": {
            "image/png": "[encoded data removed]",
            "text/plain": [
              "<Figure size 432x288 with 1 Axes>"
            ]
          },
          "metadata": {
            "tags": [],
            "needs_background": "light"
          }
        }
      ]
    },
    {
      "cell_type": "markdown",
      "metadata": {
        "id": "dUSI8eaYwHMz"
      },
      "source": [
        "## **Punto 3**\n",
        "\n",
        "***Calculate the probability of getting a 21, with the Spanish and Poker decks, assuming that you are in the middle of the game and the remaining deck has $\\tfrac{n}{2}$ cards and you have the cards $7,7,5$ in your hand.***\n",
        "\n"
      ]
    },
    {
      "cell_type": "markdown",
      "metadata": {
        "id": "-Lg7RR0GwHM0"
      },
      "source": [
        "Para este punto es necesario definir una nueva función: `sacar_21_alter(deck_type, size, hand)`. El parámetro `deck_type` es el tipo de baraja que se usará: `spanish` para la **Baraja Española** y `poker` para la **Baraja de Póker**. El parámetro `size` es la cantidad de **cartas restantes** en la baraja. El parámetro `hand` es una lista de las cartas que el jugador actualmente tiene en su **mano**; estas cartas no aparecerán en la baraja por esta misma razón."
      ]
    },
    {
      "cell_type": "code",
      "metadata": {
        "id": "3wHQ9eTbyiwj"
      },
      "source": [
        "def sacar_21_alter(deck_type, size, hand):\n",
        "  # Se inicializan algunas variables claves.\n",
        "  start_count = sum(hand)\n",
        "  successful_events = 0\n",
        "  rep = 10000000\n",
        "\n",
        "  # Definición de las Barajas Completas\n",
        "  spanish_deck = [1,2,3,4,5,6,7,8,9,10,10,10,\n",
        "                  1,2,3,4,5,6,7,8,9,10,10,10,\n",
        "                  1,2,3,4,5,6,7,8,9,10,10,10,\n",
        "                  1,2,3,4,5,6,7,8,9,10,10,10]\n",
        "\n",
        "  poker_deck = [1,2,3,4,5,6,7,8,9,10,10,10,10,\n",
        "                1,2,3,4,5,6,7,8,9,10,10,10,10,\n",
        "                1,2,3,4,5,6,7,8,9,10,10,10,10,\n",
        "                1,2,3,4,5,6,7,8,9,10,10,10,10]\n",
        "\n",
        "  # Se selecciona el tipo de baraja deseado.\n",
        "  if deck_type == \"spanish\":\n",
        "    d = spanish_deck\n",
        "  if deck_type == \"poker\":\n",
        "    d = poker_deck\n",
        "\n",
        "  for i in hand:\n",
        "    d.remove(i)\n",
        "\n",
        "  # Lista del Número de Cartas que se necesitaron en la iteración para llegar a 21 exactos:\n",
        "  cards_to_win_list = []\n",
        "\n",
        "  # Se crea la baraja de la simulación.\n",
        "  deck_sim = r.sample(d,size)\n",
        "\n",
        "  for _ in range(rep):\n",
        "\n",
        "    # Inicializamos el deck de esta iteración basado en el deck escogido.\n",
        "    deck = deck_sim.copy()\n",
        "\n",
        "    # Se establecen los puntos previos.\n",
        "    count = start_count\n",
        "    cards_to_win = 3\n",
        "\n",
        "    # Mientras no se llegue a 21 puntos o se pase, se sacan cartas del deck.\n",
        "    while count < 21:\n",
        "      # Se toma una carta aleatoria (sin repetir la misma) del deck.\n",
        "      card = r.choice(deck)\n",
        "      deck.remove(card)\n",
        "      # Se lleva la cuenta de la repetición con la nueva carta .\n",
        "      count += card\n",
        "      # Se suma una carta para ganar.\n",
        "      cards_to_win += 1\n",
        "    \n",
        "    # si se ganó, se agregan el numero de cartas que se necesitaron para ganar a la lista.\n",
        "    if count == 21:\n",
        "      successful_events += 1\n",
        "      cards_to_win_list.append(cards_to_win)\n",
        "\n",
        "  # Se obtienen una tupla del numero de cartas que se necesitaron para ganar sin repetir\n",
        "  \"\"\"\n",
        "  Ejemplo:\n",
        "  cards_to_win_list = [1,1,1,2,1,2,2,2,3,3,3]\n",
        "  cards_to_win = list(set(cards_to_win_list)) ==> (1,2,3)\n",
        "  \"\"\"\n",
        "  cards_to_win = list(set(cards_to_win_list))\n",
        "  # Se crea una lista para el numero de veces que se necesito ese número de cartas para ganar.\n",
        "  n_cards = []\n",
        "  # Se cuenta el numero de veces que se necesito esa número de cartas para completar 21 y se agrega a la lista.\n",
        "  for card in cards_to_win:\n",
        "    n_cards.append(cards_to_win_list.count(card))\n",
        "\n",
        "  # Se hace el histograma.\n",
        "  chart = plt.bar(cards_to_win,n_cards,align='center',alpha=0.5)\n",
        "  plt.xticks(cards_to_win,cards_to_win)\n",
        "  plt.show\n",
        "\n",
        "  # Se calcula la probabilidad.\n",
        "  prob = (successful_events / rep)*100\n",
        "\n",
        "  # Se imprime el texto.\n",
        "  if deck_type == \"spanish\":\n",
        "    deck_name = \"Española\"\n",
        "  if deck_type == \"poker\":\n",
        "    deck_name = \"de Poker\"\n",
        "\n",
        "  print(\"La probabilidad de completar 21 con una Baraja {2} con {3} cartas restantes y teniendo {4} ({1} puntos) en la mano es aproximadamente de: {0} %\".format(prob, start_count, deck_name, size, hand))\n",
        "  print(\"La baraja de la simulación fue: {0}\".format(deck_sim))"
      ],
      "execution_count": 7,
      "outputs": []
    },
    {
      "cell_type": "markdown",
      "metadata": {
        "id": "a7WSE80EwHM1"
      },
      "source": [
        "### *Baraja Española*"
      ]
    },
    {
      "cell_type": "code",
      "metadata": {
        "id": "Qh6Oj9ufwHM1",
        "outputId": "50415de8-3263-4366-8ccf-8031b44b7767",
        "colab": {
          "base_uri": "https://localhost:8080/",
          "height": 310
        }
      },
      "source": [
        "sacar_21_alter(\"spanish\", 24, [7,7,5])"
      ],
      "execution_count": 8,
      "outputs": [
        {
          "output_type": "stream",
          "text": [
            "La probabilidad de completar 21 con una Baraja Española con 24 cartas restantes y teniendo [7, 7, 5] (19 puntos) en la mano es aproximadamente de: 13.58871 %\n",
            "La baraja de la simulación fue: [1, 10, 6, 7, 8, 10, 4, 5, 10, 4, 3, 5, 2, 2, 1, 9, 4, 1, 4, 7, 2, 5, 3, 10]\n"
          ],
          "name": "stdout"
        },
        {
          "output_type": "display_data",
          "data": {
            "image/png": "[encoded data removed]",
            "text/plain": [
              "<Figure size 432x288 with 1 Axes>"
            ]
          },
          "metadata": {
            "tags": [],
            "needs_background": "light"
          }
        }
      ]
    },
    {
      "cell_type": "markdown",
      "metadata": {
        "id": "a1T8GMXOwHM4"
      },
      "source": [
        "### *Baraja de Poker*"
      ]
    },
    {
      "cell_type": "code",
      "metadata": {
        "id": "GD9B4w7uwHM4",
        "outputId": "8c321615-c67b-4bb4-d07b-b5c6370f9df9",
        "colab": {
          "base_uri": "https://localhost:8080/",
          "height": 310
        }
      },
      "source": [
        "sacar_21_alter(\"poker\", 26, [7,7,5])"
      ],
      "execution_count": 9,
      "outputs": [
        {
          "output_type": "stream",
          "text": [
            "La probabilidad de completar 21 con una Baraja de Poker con 26 cartas restantes y teniendo [7, 7, 5] (19 puntos) en la mano es aproximadamente de: 11.84954 %\n",
            "La baraja de la simulación fue: [3, 8, 10, 1, 10, 1, 10, 2, 8, 9, 10, 8, 9, 10, 6, 2, 2, 10, 10, 4, 3, 6, 5, 9, 7, 7]\n"
          ],
          "name": "stdout"
        },
        {
          "output_type": "display_data",
          "data": {
            "image/png": "[encoded data removed]",
            "text/plain": [
              "<Figure size 432x288 with 1 Axes>"
            ]
          },
          "metadata": {
            "tags": [],
            "needs_background": "light"
          }
        }
      ]
    },
    {
      "cell_type": "markdown",
      "metadata": {
        "id": "hBMDo8J_cb7U"
      },
      "source": [
        "## **Punto 4**\n",
        "\n",
        "***Find the remaining decks for Spanish and Poker card decks, with the number of cards according to the list below, with highest (hot deck) and lowest (cold deck) probabilities of getting 21 assuming that you have cards [7,7,5]. Calculate the probabilities analytically and verify them with Montecarlo. Plot the experimental distribution of the numbers of card requires to complete 21 in 10.000 simulations.*** \\\\\n",
        "\n",
        "* *12 Remaining Cards*\n",
        "* *10 Remaining Cards*\n"
      ]
    },
    {
      "cell_type": "markdown",
      "metadata": {
        "id": "hBBj10qyuLEE"
      },
      "source": [
        "> ***Definición:*** Una **Baraja Caliente** es aquella que contiene las 8 cartas con las que es posible lograr una 21 teniendo en cuenta que el valor de la mano es de 19: Cuatro Aces y Cuatro Doses.\n",
        "\n",
        "> ***Definición:*** una **Baraja Fría** es aquella que no contiene ninguna de estas ocho cartas."
      ]
    },
    {
      "cell_type": "markdown",
      "metadata": {
        "id": "BKP9lG-Qcb7W"
      },
      "source": [
        "Suponiendo que tenemos originalmente barajas española y de poker de 40 y 52 cartas, respectivamente, en donde las figuras tienen el mismo valor (10).\n",
        "\n",
        "Si en nuestra mano tenemos las cartas $7,7,5$, eso significaría que las cartas disponibles en ambas barajas son 37 y 49, respectivamente.\n",
        "\n",
        "Esto significa que podemos tomar ese número de cartas y permutarlos en nuestro deck de cartas restantes de tamaño `n`, en donde `n` es un valor que depende del caso que estemos analizando, así:"
      ]
    },
    {
      "cell_type": "markdown",
      "metadata": {
        "id": "mEW-qYsqcb7a"
      },
      "source": [
        "### *Baraja Española*"
      ]
    },
    {
      "cell_type": "markdown",
      "metadata": {
        "id": "s8UvLh-HmeBX"
      },
      "source": [
        "#### **Caso 1: 12 Cartas Restantes**"
      ]
    },
    {
      "cell_type": "markdown",
      "metadata": {
        "id": "zcHnGgZLp9uI"
      },
      "source": [
        "Para este caso, la cantidad total de barajas de 12 cartas que se pueden armar con las 45 cartas totales restantes es $\\boxed{P(45,12)}$.\n",
        "\n",
        "La cantidad de **barajas calientes** que se pueden formar es de $\\boxed{12! \\, \\ast \\, P(37,4)}$. El valor de $12!$ se refiere a todas las maneras en las que podemos organizar una baraja de 12 cartas con 8 cartas obligatorias (`1 1 1 1 2 2 2 2 _ _ _ _`). $P(37,4)$ se refiere a todas las formas que hay de llenar los 4 espacios restantes con las otras 37 cartas que no se han usado.\n",
        "\n",
        "La cantidad de **barajas frías** que se pueden formar es de $\\boxed{P(37,12)}$. Esto no es más que la permutación de las 37 cartas disponibles en los 12 espacios de la baraja que se deben llenar."
      ]
    },
    {
      "cell_type": "markdown",
      "metadata": {
        "id": "r4wps-dTqW-V"
      },
      "source": [
        "\\begin{align*}\n",
        "  \\text{Total de Barajas Posibles} &= P(45,12) \\approx 1,37 \\ast 10^{19} \\\\\n",
        "  \\text{Total de Barajas Calientes} &= 12! \\, \\ast \\, P(37,4) \\approx 7,59 \\ast 10^{14} \\\\\n",
        "  \\text{Total de Barajas Frías} &= P(37,12) \\approx 8,87 \\ast 10^{17}\n",
        "\\end{align*}\n",
        "\n",
        "---\n",
        "\n",
        "\\begin{align*}\n",
        "  \\text{Total de Barajas Posibles} &= 100\\% \\\\\n",
        "  \\text{Total de Barajas Calientes} &\\approx 0,0055\\% \\\\\n",
        "  \\text{Total de Barajas Frías} &\\approx 6,44\\%\n",
        "\\end{align*}"
      ]
    },
    {
      "cell_type": "markdown",
      "metadata": {
        "id": "k04sqVCZBljK"
      },
      "source": [
        "La probabilidad de **obtener 21 en una baraja caliente** , en este caso, donde la mano es 19, es igual a la suma de dos sucesos independientes:\n",
        "\n",
        "* Sacar dos aces seguidos.\n",
        "* Sacar un dos.\n",
        "\n",
        "Teniendo en cuenta que la baraja caliente tiene 4 aces y 4 doses, tenemos que:\n",
        "$$\n",
        "  P_h = \\left( \\frac{4}{12} \\ast \\frac{3}{11} \\right) + \\frac{4}{12} = \\frac{14}{33} \\approx \\boxed{42,42\\%}\n",
        "$$"
      ]
    },
    {
      "cell_type": "markdown",
      "metadata": {
        "id": "UZEbXmmPDlO1"
      },
      "source": [
        "La probabilidad de **obtener 21 en una baraja fría** es siempre del $0\\%$\n",
        "$$\n",
        "  P_f = \\boxed{0\\%}\n",
        "$$"
      ]
    },
    {
      "cell_type": "code",
      "metadata": {
        "id": "IhKtCJYCcb7a",
        "outputId": "cd2bf153-1edb-42ac-cba0-f48481469171",
        "colab": {
          "base_uri": "https://localhost:8080/",
          "height": 299
        }
      },
      "source": [
        "sacar_21_alter(\"spanish\", 12, [7,7,5])"
      ],
      "execution_count": 10,
      "outputs": [
        {
          "output_type": "stream",
          "text": [
            "La probabilidad de completar 21 con una Baraja Española con 12 cartas restantes y teniendo [7, 7, 5] (19 puntos) en la mano es aproximadamente de: 8.33971 %\n",
            "La baraja de la simulación fue: [10, 10, 2, 5, 4, 10, 8, 1, 10, 5, 10, 6]\n"
          ],
          "name": "stdout"
        },
        {
          "output_type": "display_data",
          "data": {
            "image/png": "[encoded data removed]",
            "text/plain": [
              "<Figure size 432x288 with 1 Axes>"
            ]
          },
          "metadata": {
            "tags": [],
            "needs_background": "light"
          }
        }
      ]
    },
    {
      "cell_type": "markdown",
      "metadata": {
        "id": "Tw75LaFJsizB"
      },
      "source": [
        "#### **Caso 2: 10 Cartas Restantes**"
      ]
    },
    {
      "cell_type": "markdown",
      "metadata": {
        "id": "Yj1nwn_RsizC"
      },
      "source": [
        "Para este caso, la cantidad total de barajas de 10 cartas que se pueden armar con las 45 cartas totales restantes es $\\boxed{P(45,10)}$.\n",
        "\n",
        "La cantidad de **barajas calientes** que se pueden formar es de $\\boxed{10! \\, \\ast \\, P(37,2)}$. El valor de $10!$ se refiere a todas las maneras en las que podemos organizar una baraja de 10 cartas con 8 cartas obligatorias (`1 1 1 1 2 2 2 2 _ _`). $P(37,2)$ se refiere a todas las formas que hay de llenar los 2 espacios restantes con las otras 37 cartas que no se han usado.\n",
        "\n",
        "La cantidad de **barajas frías** que se pueden formar es de $\\boxed{P(37,10)}$. Esto no es más que la permutación de las 37 cartas disponibles en los 10 espacios de la baraja que se deben llenar."
      ]
    },
    {
      "cell_type": "markdown",
      "metadata": {
        "id": "wGevXpYKsizC"
      },
      "source": [
        "\\begin{align*}\n",
        "  \\text{Total de Barajas Posibles} &= P(45,10) \\approx 1,16 \\ast 10^{16} \\\\\n",
        "  \\text{Total de Barajas Calientes} &= 10! \\, \\ast \\, P(37,2) \\approx 4,83 \\ast 10^{9} \\\\\n",
        "  \\text{Total de Barajas Frías} &= P(37,10) \\approx 1,26 \\ast 10^{15}\n",
        "\\end{align*}\n",
        "\n",
        "---\n",
        "\n",
        "\\begin{align*}\n",
        "  \\text{Total de Barajas Posibles} &= 100\\% \\\\\n",
        "  \\text{Total de Barajas Calientes} &\\approx 0,00004\\% \\\\\n",
        "  \\text{Total de Barajas Frías} &\\approx 10,91\\%\n",
        "\\end{align*}"
      ]
    },
    {
      "cell_type": "markdown",
      "metadata": {
        "id": "zTdE52WmGLLV"
      },
      "source": [
        "La probabilidad de **obtener 21 en una baraja caliente** , en este caso, donde la mano es 19, es igual a la suma de dos sucesos independientes:\n",
        "\n",
        "* Sacar dos aces seguidos.\n",
        "* Sacar un dos.\n",
        "\n",
        "Teniendo en cuenta que la baraja caliente tiene 4 aces y 4 doses, tenemos que:\n",
        "$$\n",
        "  P_h = \\left( \\frac{4}{10} \\ast \\frac{3}{9} \\right) + \\frac{4}{10} = \\frac{8}{15} \\approx \\boxed{53,33\\%}\n",
        "$$"
      ]
    },
    {
      "cell_type": "markdown",
      "metadata": {
        "id": "ZP41E_KdGi9R"
      },
      "source": [
        "La probabilidad de **obtener 21 en una baraja fría** es siempre del $0\\%$\n",
        "$$\n",
        "  P_f = \\boxed{0\\%}\n",
        "$$"
      ]
    },
    {
      "cell_type": "code",
      "metadata": {
        "id": "xMT8mby4twGZ",
        "outputId": "38dc38e5-5dd3-48b2-e986-115e3af0df4f",
        "colab": {
          "base_uri": "https://localhost:8080/",
          "height": 286
        }
      },
      "source": [
        "sacar_21_alter(\"spanish\", 10, [7,7,5])"
      ],
      "execution_count": 11,
      "outputs": [
        {
          "output_type": "stream",
          "text": [
            "La probabilidad de completar 21 con una Baraja Española con 10 cartas restantes y teniendo [7, 7, 5] (19 puntos) en la mano es aproximadamente de: 0.0 %\n",
            "La baraja de la simulación fue: [10, 3, 8, 4, 6, 7, 10, 10, 4, 9]\n"
          ],
          "name": "stdout"
        },
        {
          "output_type": "display_data",
          "data": {
            "image/png": "[encoded data removed]",
            "text/plain": [
              "<Figure size 432x288 with 1 Axes>"
            ]
          },
          "metadata": {
            "tags": [],
            "needs_background": "light"
          }
        }
      ]
    },
    {
      "cell_type": "markdown",
      "metadata": {
        "id": "rc5QwpE2t8XB"
      },
      "source": [
        "### *Baraja de Poker*"
      ]
    },
    {
      "cell_type": "markdown",
      "metadata": {
        "id": "NWvemFGKt8XC"
      },
      "source": [
        "#### **Caso 1: 12 Cartas Restantes**"
      ]
    },
    {
      "cell_type": "markdown",
      "metadata": {
        "id": "CdfjAWiWt8XD"
      },
      "source": [
        "Para este caso, la cantidad total de barajas de 12 cartas que se pueden armar con las 49 cartas totales restantes es $\\boxed{P(49,12)}$.\n",
        "\n",
        "La cantidad de **barajas calientes** que se pueden formar es de $\\boxed{12! \\, \\ast \\, P(41,4)}$. El valor de $12!$ se refiere a todas las maneras en las que podemos organizar una baraja de 12 cartas con 8 cartas obligatorias (`1 1 1 1 2 2 2 2 _ _ _ _`). $P(41,4)$ se refiere a todas las formas que hay de llenar los 4 espacios restantes con las otras 41 cartas que no se han usado.\n",
        "\n",
        "La cantidad de **barajas frías** que se pueden formar es de $\\boxed{P(41,12)}$. Esto no es más que la permutación de las 41 cartas disponibles en los 12 espacios de la baraja que se deben llenar."
      ]
    },
    {
      "cell_type": "markdown",
      "metadata": {
        "id": "8yryR0lbt8XD"
      },
      "source": [
        "\\begin{align*}\n",
        "  \\text{Total de Barajas Posibles} &= P(49,12) \\approx 4,41 \\ast 10^{19} \\\\\n",
        "  \\text{Total de Barajas Calientes} &= 12! \\, \\ast \\, P(41,4) \\approx 1,16 \\ast 10^{15} \\\\\n",
        "  \\text{Total de Barajas Frías} &= P(41,12) \\approx 3,78 \\ast 10^{18}\n",
        "\\end{align*}\n",
        "\n",
        "---\n",
        "\n",
        "\\begin{align*}\n",
        "  \\text{Total de Barajas Posibles} &= 100\\% \\\\\n",
        "  \\text{Total de Barajas Calientes} &\\approx 0,002\\% \\\\\n",
        "  \\text{Total de Barajas Frías} &\\approx 8,56\\%\n",
        "\\end{align*}"
      ]
    },
    {
      "cell_type": "markdown",
      "metadata": {
        "id": "l4nfy6EmN5zv"
      },
      "source": [
        "La probabilidad de **obtener 21 en una baraja caliente** , en este caso, donde la mano es 19, es igual a la suma de dos sucesos independientes:\n",
        "\n",
        "* Sacar dos aces seguidos.\n",
        "* Sacar un dos.\n",
        "\n",
        "Teniendo en cuenta que la baraja caliente tiene 4 aces y 4 doses, tenemos que:\n",
        "$$\n",
        "  P_h = \\left( \\frac{4}{12} \\ast \\frac{3}{11} \\right) + \\frac{4}{12} = \\frac{14}{33} \\approx \\boxed{42,42\\%}\n",
        "$$"
      ]
    },
    {
      "cell_type": "markdown",
      "metadata": {
        "id": "oc5Afr9TOHVR"
      },
      "source": [
        "La probabilidad de **obtener 21 en una baraja fría** es siempre del $0\\%$\n",
        "$$\n",
        "  P_f = \\boxed{0\\%}\n",
        "$$"
      ]
    },
    {
      "cell_type": "code",
      "metadata": {
        "id": "UrXt-to7t8XD",
        "outputId": "b4e40fb7-3415-4346-c395-43afb75c68a6",
        "colab": {
          "base_uri": "https://localhost:8080/",
          "height": 299
        }
      },
      "source": [
        "sacar_21_alter(\"poker\", 12, [7,7,5])"
      ],
      "execution_count": 12,
      "outputs": [
        {
          "output_type": "stream",
          "text": [
            "La probabilidad de completar 21 con una Baraja de Poker con 12 cartas restantes y teniendo [7, 7, 5] (19 puntos) en la mano es aproximadamente de: 8.333300000000001 %\n",
            "La baraja de la simulación fue: [10, 8, 10, 10, 9, 4, 3, 7, 2, 1, 10, 8]\n"
          ],
          "name": "stdout"
        },
        {
          "output_type": "display_data",
          "data": {
            "image/png": "[encoded data removed]",
            "text/plain": [
              "<Figure size 432x288 with 1 Axes>"
            ]
          },
          "metadata": {
            "tags": [],
            "needs_background": "light"
          }
        }
      ]
    },
    {
      "cell_type": "markdown",
      "metadata": {
        "id": "AMrGTR2ct8XG"
      },
      "source": [
        "#### **Caso 2: 10 Cartas Restantes**"
      ]
    },
    {
      "cell_type": "markdown",
      "metadata": {
        "id": "jUeQYUyMt8XG"
      },
      "source": [
        "Para este caso, la cantidad total de barajas de 10 cartas que se pueden armar con las 49 cartas totales restantes es $\\boxed{P(49,10)}$.\n",
        "\n",
        "La cantidad de **barajas calientes** que se pueden formar es de $\\boxed{10! \\, \\ast \\, P(41,2)}$. El valor de $10!$ se refiere a todas las maneras en las que podemos organizar una baraja de 10 cartas con 8 cartas obligatorias (`1 1 1 1 2 2 2 2 _ _`). $P(41,2)$ se refiere a todas las formas que hay de llenar los 2 espacios restantes con las otras 41 cartas que no se han usado.\n",
        "\n",
        "La cantidad de **barajas frías** que se pueden formar es de $\\boxed{P(41,10)}$. Esto no es más que la permutación de las 41 cartas disponibles en los 10 espacios de la baraja que se deben llenar."
      ]
    },
    {
      "cell_type": "markdown",
      "metadata": {
        "id": "J1b7hp64t8XH"
      },
      "source": [
        "\\begin{align*}\n",
        "  \\text{Total de Barajas Posibles} &= P(49,10) \\approx 2,98 \\ast 10^{16} \\\\\n",
        "  \\text{Total de Barajas Calientes} &= 10! \\, \\ast \\, P(41,2) \\approx 5,95 \\ast 10^{9} \\\\\n",
        "  \\text{Total de Barajas Frías} &= P(41,10) \\approx 4,06 \\ast 10^{15}\n",
        "\\end{align*}\n",
        "\n",
        "---\n",
        "\n",
        "\\begin{align*}\n",
        "  \\text{Total de Barajas Posibles} &= 100\\% \\\\\n",
        "  \\text{Total de Barajas Calientes} &\\approx 0,00002\\% \\\\\n",
        "  \\text{Total de Barajas Frías} &\\approx 13,64\\%\n",
        "\\end{align*}"
      ]
    },
    {
      "cell_type": "markdown",
      "metadata": {
        "id": "WTcpyqsROKwD"
      },
      "source": [
        "La probabilidad de **obtener 21 en una baraja caliente** , en este caso, donde la mano es 19, es igual a la suma de dos sucesos independientes:\n",
        "\n",
        "* Sacar dos aces seguidos.\n",
        "* Sacar un dos.\n",
        "\n",
        "Teniendo en cuenta que la baraja caliente tiene 4 aces y 4 doses, tenemos que:\n",
        "$$\n",
        "  P_h = \\left( \\frac{4}{10} \\ast \\frac{3}{9} \\right) + \\frac{4}{10} = \\frac{8}{15} \\approx \\boxed{53,33\\%}\n",
        "$$"
      ]
    },
    {
      "cell_type": "markdown",
      "metadata": {
        "id": "WKcHhbHNOO0Q"
      },
      "source": [
        "La probabilidad de **obtener 21 en una baraja fría** es siempre del $0\\%$\n",
        "$$\n",
        "  P_f = \\boxed{0\\%}\n",
        "$$"
      ]
    },
    {
      "cell_type": "code",
      "metadata": {
        "id": "CycCsMvdt8XH",
        "outputId": "8b1c26b7-d67d-4353-f304-3af23c3adfd9",
        "colab": {
          "base_uri": "https://localhost:8080/",
          "height": 299
        }
      },
      "source": [
        "sacar_21_alter(\"poker\", 10, [7,7,5])"
      ],
      "execution_count": 13,
      "outputs": [
        {
          "output_type": "stream",
          "text": [
            "La probabilidad de completar 21 con una Baraja de Poker con 10 cartas restantes y teniendo [7, 7, 5] (19 puntos) en la mano es aproximadamente de: 2.22206 %\n",
            "La baraja de la simulación fue: [8, 10, 5, 5, 8, 3, 10, 8, 1, 1]\n"
          ],
          "name": "stdout"
        },
        {
          "output_type": "display_data",
          "data": {
            "image/png": "[encoded data removed]",
            "text/plain": [
              "<Figure size 432x288 with 1 Axes>"
            ]
          },
          "metadata": {
            "tags": [],
            "needs_background": "light"
          }
        }
      ]
    },
    {
      "cell_type": "markdown",
      "metadata": {
        "id": "ilO1-I8CyRwC"
      },
      "source": [
        "## **Punto 5**\n",
        "\n",
        "***If Ben goes to Vegas every weekend (Friday, Saturday and Sunday), plays every weekend day 10 hours, each game takes 3 mins. He gets the cards $7,7,5$ and a remaining hot deck with probability $\\frac{1}{10}$. Asume that for cold decks the Ben has no cards and the remaining deck is the complete deck. He bets $\\$1000$ on hot decks and $\\$10$ on cold decks. What is the estimated amount of money that Ben wins or losses on a weekend?***\n",
        "\n"
      ]
    },
    {
      "cell_type": "markdown",
      "metadata": {
        "id": "HRO9qbVQyRwD"
      },
      "source": [
        "> Apostando 10 horas al día, por 3 días, con partidas de 3 minutos, Ben juega **600** partidas en un fin de semana."
      ]
    },
    {
      "cell_type": "markdown",
      "metadata": {
        "id": "x2kJY1yJ_AST"
      },
      "source": [
        "Primero, escogemos la cantidad de partidas frías y calientes que jugará de esas 600 totales. Esto se hace sabiendo que la probabilidad de que una partida sea caliente es de $10\\%$"
      ]
    },
    {
      "cell_type": "code",
      "metadata": {
        "id": "B06QXtH78dEB"
      },
      "source": [
        "# Escoger el tipo de juego (Hot 10% or Cold 90%):\n",
        "game_type = [0,0,0,0,0,0,0,0,0,1]\n",
        "\n",
        "total_games = [0,0]\n",
        "\n",
        "for p in range(600):\n",
        "  if r.choice(game_type) == 1:\n",
        "    total_games[0] += 1\n",
        "  else:\n",
        "    total_games[1] += 1"
      ],
      "execution_count": 14,
      "outputs": []
    },
    {
      "cell_type": "markdown",
      "metadata": {
        "id": "H61dox9i_WH3"
      },
      "source": [
        "Definimos las funciones para calcular la probabilidad de cada tipo de partida:"
      ]
    },
    {
      "cell_type": "code",
      "metadata": {
        "id": "n-YdPfB34rgW"
      },
      "source": [
        "def sacar_21_caliente(deck_type, size, hand, rep):\n",
        "  # Se inicializan algunas variables claves.\n",
        "  start_count = sum(hand)\n",
        "  successful_events = 0\n",
        "\n",
        "  # Definición de las Barajas Completas\n",
        "  spanish_deck = [1,2,3,4,5,6,7,8,9,10,10,10,\n",
        "                  1,2,3,4,5,6,7,8,9,10,10,10,\n",
        "                  1,2,3,4,5,6,7,8,9,10,10,10,\n",
        "                  1,2,3,4,5,6,7,8,9,10,10,10]\n",
        "\n",
        "  poker_deck = [1,2,3,4,5,6,7,8,9,10,10,10,10,\n",
        "                1,2,3,4,5,6,7,8,9,10,10,10,10,\n",
        "                1,2,3,4,5,6,7,8,9,10,10,10,10,\n",
        "                1,2,3,4,5,6,7,8,9,10,10,10,10]\n",
        "\n",
        "  # Se selecciona el tipo de baraja deseado.\n",
        "  if deck_type == \"spanish\":\n",
        "    d = spanish_deck\n",
        "  if deck_type == \"poker\":\n",
        "    d = poker_deck\n",
        "\n",
        "  # Se retiran del deck las cartas de la mano.\n",
        "  for i in hand:\n",
        "    d.remove(i)\n",
        "\n",
        "  # Se retiran las cartas obligatorias (1 y 2)\n",
        "  hot_cards = [1,1,1,1,2,2,2,2]\n",
        "  for i in hot_cards:\n",
        "    d.remove(i)\n",
        "\n",
        "  for x in range(10000):\n",
        "\n",
        "    # Lista del Número de Cartas que se necesitaron en la iteración para llegar a 21 exactos:\n",
        "    cards_to_win_list = []\n",
        "\n",
        "    # Se crea la baraja caliente de la simulación.\n",
        "    deck_sim = hot_cards + r.sample(d,size - 8)\n",
        "\n",
        "    for _ in range(rep):\n",
        "\n",
        "      # Se inicializa la baraja de la iteración.\n",
        "      deck = deck_sim.copy()\n",
        "\n",
        "      # Se establecen los puntos previos.\n",
        "      count = start_count\n",
        "      cards_to_win = 0\n",
        "      \n",
        "      # Mientras no se llegue a 21 puntos o se pase, se sacan cartas del deck.\n",
        "      while count < 21:\n",
        "        # Se toma una carta aleatoria (sin repetir la misma) del deck.\n",
        "        card = r.choice(deck)\n",
        "        deck.remove(card)\n",
        "        # Se lleva la cuenta de la repetición con la nueva carta .\n",
        "        count += card\n",
        "        # Se suma una carta para ganar.\n",
        "        cards_to_win += 1\n",
        "      \n",
        "      # si se ganó, se agregan el numero de cartas que se necesitaron para ganar a la lista.\n",
        "      if count == 21:\n",
        "        successful_events += 1\n",
        "        cards_to_win_list.append(cards_to_win)\n",
        "  \n",
        "  # Se obtienen una tupla del numero de cartas que se necesitaron para ganar sin repetir\n",
        "  \"\"\"\n",
        "  Ejemplo:\n",
        "  cards_to_win_list = [1,1,1,2,1,2,2,2,3,3,3]\n",
        "  cards_to_win = list(set(cards_to_win_list)) ==> (1,2,3)\n",
        "  \"\"\"\n",
        "  cards_to_win = list(set(cards_to_win_list))\n",
        "  \n",
        "  # Se crea una lista para el numero de veces que se necesito ese número de cartas para ganar.\n",
        "  n_cards = []\n",
        "  # Se cuenta el numero de veces que se necesito esa número de cartas para completar 21 y se agrega a la lista.\n",
        "  for card in cards_to_win:\n",
        "    n_cards.append(cards_to_win_list.count(card))\n",
        "\n",
        "  # Se hace el histograma.\n",
        "  chart = plt.bar(cards_to_win,n_cards,align='center',alpha=0.5)\n",
        "  plt.xticks(cards_to_win,cards_to_win)\n",
        "  plt.show\n",
        "\n",
        "  # Se calcula la probabilidad.\n",
        "  prob = (successful_events / (rep*10000))*100\n",
        "\n",
        "  # Se imprime el texto.\n",
        "  if deck_type == \"spanish\":\n",
        "    deck_name = \"Española\"\n",
        "  if deck_type == \"poker\":\n",
        "    deck_name = \"de Poker\"\n",
        "\n",
        "  print(\"La probabilidad de completar 21 con una Baraja {2} caliente con {3} cartas restantes y teniendo {4} ({1} puntos) en la mano es aproximadamente de: {0} % con {5} juegos de este tipo en un fin de semana (Simulados 10.000 veces cada uno)\".format(prob, start_count, deck_name, size, hand, rep))\n",
        "  return prob"
      ],
      "execution_count": 15,
      "outputs": []
    },
    {
      "cell_type": "code",
      "metadata": {
        "id": "DABY6bBxz4pr"
      },
      "source": [
        "def sacar_21_fria(deck_type,rep):\n",
        "  # Se inicializan algunas variables claves.\n",
        "  start_count = 0\n",
        "  successful_events = 0\n",
        "\n",
        "  # Definición de las Barajas Completas\n",
        "  spanish_deck = [1,2,3,4,5,6,7,10,10,10,\n",
        "                  1,2,3,4,5,6,7,10,10,10,\n",
        "                  1,2,3,4,5,6,7,10,10,10,\n",
        "                  1,2,3,4,5,6,7,10,10,10]\n",
        "\n",
        "  poker_deck = [1,2,3,4,5,6,7,8,9,10,10,10,10,\n",
        "                1,2,3,4,5,6,7,8,9,10,10,10,10,\n",
        "                1,2,3,4,5,6,7,8,9,10,10,10,10,\n",
        "                1,2,3,4,5,6,7,8,9,10,10,10,10]\n",
        "\n",
        "  # Se selecciona el tipo de baraja deseado.\n",
        "  if deck_type == \"spanish\":\n",
        "    deck_sim = spanish_deck\n",
        "  if deck_type == \"poker\":\n",
        "    deck_sim = poker_deck\n",
        "\n",
        "  for x in range(rep):\n",
        "  \n",
        "    # Lista del Número de Cartas que se necesitaron en la iteración para llegar a 21 exactos:\n",
        "    cards_to_win_list = []\n",
        "    \n",
        "    for _ in range(10000):\n",
        "\n",
        "      # Se inicializa la baraja de la iteración.\n",
        "      deck = deck_sim.copy()\n",
        "\n",
        "      # Se establecen los puntos previos.\n",
        "      count = start_count\n",
        "      cards_to_win = 0\n",
        "      \n",
        "      # Mientras no se llegue a 21 puntos o se pase, se sacan cartas del deck.\n",
        "      while count < 21:\n",
        "        # Se toma una carta aleatoria (sin repetir la misma) del deck.\n",
        "        card = r.choice(deck)\n",
        "        deck.remove(card)\n",
        "        # Se lleva la cuenta de la repetición con la nueva carta .\n",
        "        count += card\n",
        "        # Se suma una carta para ganar.\n",
        "        cards_to_win += 1\n",
        "      \n",
        "      # si se ganó, se agregan el numero de cartas que se necesitaron para ganar a la lista.\n",
        "      if count == 21:\n",
        "        successful_events += 1\n",
        "        cards_to_win_list.append(cards_to_win)\n",
        "  \n",
        "  # se obtienen una tupla del numero de cartas que se necesitaron para ganar sin repetir\n",
        "  \"\"\"\n",
        "  Ejemplo:\n",
        "  cards_to_win_list = [1,1,1,2,1,2,2,2,3,3,3]\n",
        "  cards_to_win = list(set(cards_to_win_list)) ==> (1,2,3)\n",
        "  \"\"\"\n",
        "  cards_to_win = list(set(cards_to_win_list))\n",
        "  # Se crea una lista para el numero de veces que se necesito ese número de cartas para ganar.\n",
        "  n_cards = []\n",
        "  # Se cuenta el numero de veces que se necesito esa número de cartas para completar 21 y se agrega a la lista.\n",
        "  for card in cards_to_win:\n",
        "    n_cards.append(cards_to_win_list.count(card))\n",
        "\n",
        "  # Se hace el histograma.\n",
        "  chart = plt.bar(cards_to_win,n_cards,align='center',alpha=0.5)\n",
        "  plt.xticks(cards_to_win,cards_to_win)\n",
        "  plt.show\n",
        "\n",
        "  # Se calcula la probabilidad.\n",
        "  prob = (successful_events / (rep*10000))*100\n",
        "\n",
        "  # Se imprime el texto.\n",
        "  if deck_type == \"spanish\":\n",
        "    deck_name = \"Española\"\n",
        "  if deck_type == \"poker\":\n",
        "    deck_name = \"de Poker\"\n",
        "\n",
        "  print(\"La probabilidad de completar 21 con una Baraja {1} fría es aproximadamente de: {0} % con {2} juegos de este tipo en un fin de semana (Simulados 10.000 veces cada uno)\".format(prob, deck_name, rep))\n",
        "  return prob"
      ],
      "execution_count": 16,
      "outputs": []
    },
    {
      "cell_type": "markdown",
      "metadata": {
        "id": "YvQ58m9iyRwE"
      },
      "source": [
        "### *Baraja Española*"
      ]
    },
    {
      "cell_type": "markdown",
      "metadata": {
        "id": "u_oZOANo_fc2"
      },
      "source": [
        "Se juegan todas las partidas con la **Baraja Española**:"
      ]
    },
    {
      "cell_type": "code",
      "metadata": {
        "id": "58xIyHP_zKrk",
        "outputId": "6bbe25fa-d19d-4efd-922a-98d56a26f1b2",
        "colab": {
          "base_uri": "https://localhost:8080/",
          "height": 302
        }
      },
      "source": [
        "cal = sacar_21_caliente(\"spanish\", 10, [7,7,5], total_games[0])\n",
        "cal;"
      ],
      "execution_count": 17,
      "outputs": [
        {
          "output_type": "stream",
          "text": [
            "La probabilidad de completar 21 con una Baraja Española caliente con 10 cartas restantes y teniendo [7, 7, 5] (19 puntos) en la mano es aproximadamente de: 53.310769230769225 % con 52 juegos de este tipo en un fin de semana (Simulados 10.000 veces cada uno)\n"
          ],
          "name": "stdout"
        },
        {
          "output_type": "display_data",
          "data": {
            "image/png": "[encoded data removed]",
            "text/plain": [
              "<Figure size 432x288 with 1 Axes>"
            ]
          },
          "metadata": {
            "tags": [],
            "needs_background": "light"
          }
        }
      ]
    },
    {
      "cell_type": "code",
      "metadata": {
        "id": "JdDMeBK58ZeD",
        "outputId": "2c3cf849-8b02-4d4a-f5be-b401a661684c",
        "colab": {
          "base_uri": "https://localhost:8080/",
          "height": 282
        }
      },
      "source": [
        "fri = sacar_21_fria(\"spanish\", total_games[1])\n",
        "fri;"
      ],
      "execution_count": 18,
      "outputs": [
        {
          "output_type": "stream",
          "text": [
            "La probabilidad de completar 21 con una Baraja Española fría es aproximadamente de: 16.625675182481753 % con 548 juegos de este tipo en un fin de semana (Simulados 10.000 veces cada uno)\n"
          ],
          "name": "stdout"
        },
        {
          "output_type": "display_data",
          "data": {
            "image/png": "[encoded data removed]",
            "text/plain": [
              "<Figure size 432x288 with 1 Axes>"
            ]
          },
          "metadata": {
            "tags": [],
            "needs_background": "light"
          }
        }
      ]
    },
    {
      "cell_type": "markdown",
      "metadata": {
        "id": "2wUCNH2q_nzW"
      },
      "source": [
        "Y se calcula el saldo final de Ben teniendo en cuenta que la probabilidad de ganar un tipo de partida es el porcentaje de partidas ganadas en ese tipo de partida (caliente o fría):"
      ]
    },
    {
      "cell_type": "code",
      "metadata": {
        "id": "Xid8mYow8xsj"
      },
      "source": [
        "def calcular_saldo (pCal, pFri, intentos):\n",
        "\n",
        "  winCal = (pCal/100) * intentos[0]\n",
        "  losCal = intentos[0] - winCal\n",
        "  winFri = (pFri/100) * intentos[1]\n",
        "  losFri = intentos[1] - winFri\n",
        "\n",
        "  saldo = 0\n",
        "  saldo = (winCal*1000) + (winFri*10) - (losCal*1000) - (losFri*10)\n",
        "\n",
        "  print(\"Las ganancias totales de Ben jugando con la Baraja Española fueron: {0}\".format(saldo))"
      ],
      "execution_count": 19,
      "outputs": []
    },
    {
      "cell_type": "code",
      "metadata": {
        "id": "Tu0c65_y-Jgv",
        "outputId": "4dfdcd26-c6da-4608-e975-d5a90b6e4dc3",
        "colab": {
          "base_uri": "https://localhost:8080/",
          "height": 34
        }
      },
      "source": [
        "calcular_saldo(cal, fri, total_games)"
      ],
      "execution_count": 20,
      "outputs": [
        {
          "output_type": "stream",
          "text": [
            "Las ganancias totales de Ben jugando con la Baraja Española fueron: -214.62600000000384\n"
          ],
          "name": "stdout"
        }
      ]
    },
    {
      "cell_type": "markdown",
      "metadata": {
        "id": "LnaeO1e3ARaG"
      },
      "source": [
        "### *Baraja de Poker*"
      ]
    },
    {
      "cell_type": "markdown",
      "metadata": {
        "id": "ZiFSEeX6ARaH"
      },
      "source": [
        "Se juegan todas las partidas con la **Baraja de Poker**:"
      ]
    },
    {
      "cell_type": "code",
      "metadata": {
        "id": "MIipIQwlARaI",
        "outputId": "1566dd1c-83e7-4813-c7e9-a81ad9b223df",
        "colab": {
          "base_uri": "https://localhost:8080/",
          "height": 302
        }
      },
      "source": [
        "cal = sacar_21_caliente(\"poker\", 10, [7,7,5], total_games[0])\n",
        "cal;"
      ],
      "execution_count": 21,
      "outputs": [
        {
          "output_type": "stream",
          "text": [
            "La probabilidad de completar 21 con una Baraja de Poker caliente con 10 cartas restantes y teniendo [7, 7, 5] (19 puntos) en la mano es aproximadamente de: 53.35096153846154 % con 52 juegos de este tipo en un fin de semana (Simulados 10.000 veces cada uno)\n"
          ],
          "name": "stdout"
        },
        {
          "output_type": "display_data",
          "data": {
            "image/png": "[encoded data removed]",
            "text/plain": [
              "<Figure size 432x288 with 1 Axes>"
            ]
          },
          "metadata": {
            "tags": [],
            "needs_background": "light"
          }
        }
      ]
    },
    {
      "cell_type": "code",
      "metadata": {
        "id": "qiaRXkx9ARaL",
        "outputId": "1f4a7e80-a838-4cd5-8316-04f1b8f4879b",
        "colab": {
          "base_uri": "https://localhost:8080/",
          "height": 282
        }
      },
      "source": [
        "fri = sacar_21_fria(\"poker\", total_games[1])\n",
        "fri;"
      ],
      "execution_count": 22,
      "outputs": [
        {
          "output_type": "stream",
          "text": [
            "La probabilidad de completar 21 con una Baraja de Poker fría es aproximadamente de: 14.010346715328467 % con 548 juegos de este tipo en un fin de semana (Simulados 10.000 veces cada uno)\n"
          ],
          "name": "stdout"
        },
        {
          "output_type": "display_data",
          "data": {
            "image/png": "[encoded data removed]",
            "text/plain": [
              "<Figure size 432x288 with 1 Axes>"
            ]
          },
          "metadata": {
            "tags": [],
            "needs_background": "light"
          }
        }
      ]
    },
    {
      "cell_type": "markdown",
      "metadata": {
        "id": "WoG5VCqSARaN"
      },
      "source": [
        "Y se calcula el saldo final de Ben teniendo en cuenta que la probabilidad de ganar un tipo de partida es el porcentaje de partidas ganadas en ese tipo de partida (caliente o fría):"
      ]
    },
    {
      "cell_type": "code",
      "metadata": {
        "id": "BXNzPga4ARaO"
      },
      "source": [
        "def calcular_saldo (pCal, pFri, intentos):\n",
        "\n",
        "  winCal = (pCal/100) * intentos[0]\n",
        "  losCal = intentos[0] - winCal\n",
        "  winFri = (pFri/100) * intentos[1]\n",
        "  losFri = intentos[1] - winFri\n",
        "\n",
        "  saldo = 0\n",
        "  saldo = (winCal*1000) + (winFri*10) - (losCal*1000) - (losFri*10)\n",
        "\n",
        "  print(\"Las ganancias totales de Ben jugando con la Baraja de Poker fueron: {0}\".format(saldo))"
      ],
      "execution_count": 23,
      "outputs": []
    },
    {
      "cell_type": "code",
      "metadata": {
        "id": "wqXzvB3CARaQ",
        "outputId": "d6d4427f-635e-4a62-f163-179c9b88dd73",
        "colab": {
          "base_uri": "https://localhost:8080/",
          "height": 34
        }
      },
      "source": [
        "calcular_saldo(cal, fri, total_games)"
      ],
      "execution_count": 24,
      "outputs": [
        {
          "output_type": "stream",
          "text": [
            "Las ganancias totales de Ben jugando con la Baraja de Poker fueron: -459.46600000000035\n"
          ],
          "name": "stdout"
        }
      ]
    }
  ]
}