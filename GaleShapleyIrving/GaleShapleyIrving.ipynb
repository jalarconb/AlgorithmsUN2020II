{
  "nbformat": 4,
  "nbformat_minor": 0,
  "metadata": {
    "colab": {
      "name": "GaleShapleyIrving.ipynb",
      "provenance": []
    },
    "kernelspec": {
      "name": "python3",
      "display_name": "Python 3"
    }
  },
  "cells": [
    {
      "cell_type": "markdown",
      "metadata": {
        "id": "34to5lZ__cO0"
      },
      "source": [
        "# **LAB 9 - Gale-Shapley and Irving Algorithms**\n",
        "\n",
        "Juan Esteban Alarcón Bravo\n",
        "$$ $$\n",
        "\n",
        "---"
      ]
    },
    {
      "cell_type": "code",
      "metadata": {
        "id": "stJ8zj6EBGdx"
      },
      "source": [
        "import random as r\n",
        "import statistics as s\n",
        "import matplotlib.pyplot as plt"
      ],
      "execution_count": 1,
      "outputs": []
    },
    {
      "cell_type": "code",
      "metadata": {
        "id": "JYr4QReXErWf"
      },
      "source": [
        "def createPreference(n):\n",
        "  prefMatrix = []\n",
        "  for i in range(1, 2*n+1):\n",
        "    prefValues = []\n",
        "    while (len(prefValues) < n):\n",
        "      k = r.randint(1, n)\n",
        "      if k in prefValues:\n",
        "        continue\n",
        "      prefValues.append(k)\n",
        "    prefMatrix.append(prefValues)\n",
        "  return prefMatrix"
      ],
      "execution_count": 2,
      "outputs": []
    },
    {
      "cell_type": "code",
      "metadata": {
        "id": "d-KvMfeNY-W8"
      },
      "source": [
        "steps = 0"
      ],
      "execution_count": 3,
      "outputs": []
    },
    {
      "cell_type": "code",
      "metadata": {
        "id": "4o32cyL_VCim"
      },
      "source": [
        "def galeShapley (n,rep=100):\n",
        "\n",
        "  # Python3 program for stable marriage problem \n",
        "\n",
        "  # This function returns true if woman 'w' prefers man 'm1' over man 'm' \n",
        "  def wPrefersM1OverM(prefMatrix, w, m, m1): \t\n",
        "    for i in range(n):\n",
        "      if (prefMatrix[w][i] == m1): \n",
        "        return True\n",
        "\n",
        "      # If m cmes before m1 in w's list, then free her current engagement and engage her with m \n",
        "      if (prefMatrix[w][i] == m): \n",
        "        return False\n",
        "\n",
        "  # Prints stable matching for n boys and n girls. Boys are numbered as 0 to n-1. Girls are numbereed as n to 2n-1. \n",
        "  def stableMarriage(prefMatrix):\n",
        "    wPartner = [-1 for i in range(n)]\n",
        "    steps = 0\n",
        "\n",
        "    # An array to store availability of men. If mFree[i] is false, then man 'i' is free, otherwise engaged. \n",
        "    mFree = [False for i in range(n)] \n",
        "\n",
        "    freeCount = n \n",
        "\n",
        "    # While there are free men \n",
        "    while (freeCount > 0): \n",
        "      \n",
        "      # Pick the first free man (we could pick any) \n",
        "      m = 0\n",
        "      while (m < n): \n",
        "        if (mFree[m] == False): \n",
        "          break\n",
        "        m += 1\n",
        "\n",
        "      # One by one go to all women according to m's preferences. Here m is the picked free man \n",
        "      i = 0\n",
        "      while i < n and mFree[m] == False:\n",
        "        w = prefMatrix[m][i] \n",
        "\n",
        "        # The woman of preference is free, w and m become partners (Note that the partnership maybe changed later). So we can say they are engaged not married \n",
        "        if (wPartner[w - n] == -1): \n",
        "          wPartner[w - n] = m \n",
        "          mFree[m] = True\n",
        "          freeCount -= 1\n",
        "          steps += 1\n",
        "\n",
        "        else: \n",
        "          \n",
        "          # If w is not free, find current engagement of w \n",
        "          m1 = wPartner[w - n] \n",
        "\n",
        "          steps += 1\n",
        "          # If w prefers m over her current engagement m1, then break the engagement between w and m1 and engage m with w. \n",
        "          if (wPrefersM1OverM(prefMatrix, w, m, m1) == False):\n",
        "            wPartner[w - n] = m \n",
        "            mFree[m] = True\n",
        "            mFree[m1] = False\n",
        "        i += 1\n",
        "\n",
        "        # End of Else End of the for loop that goes to all women in m's list End of main while loop \n",
        "\n",
        "    return steps\n",
        "\n",
        "  # Driver Code\n",
        "\n",
        "  #print(prefMatrix)\n",
        "  steps = []\n",
        "  for i in range(rep):\n",
        "    prefMatrix = createPreference(n)\n",
        "    steps.append(stableMarriage(prefMatrix))\n",
        "\n",
        "  stepsCounter = []\n",
        "  for i in range(n, n**2 + 1):\n",
        "    stepsCounter.append(steps.count(i))\n",
        "\n",
        "  k = len(stepsCounter) - 1\n",
        "  while k >= 0:\n",
        "    if stepsCounter[k] == 0:\n",
        "      stepsCounter.pop(k)\n",
        "    k -= 1\n",
        "\n",
        "  steps = list(set(steps))\n",
        "\n",
        "  print(\"Corriendo el algoritmo {0} veces para n = {1}\\n\".format(rep,n))\n",
        "  chart = plt.bar(steps,stepsCounter,align='center',alpha=0.75, color=\"red\")\n",
        "  plt.show()\n",
        "  print('Máximo =', max(steps),'\\tMínimo =', min(steps))\n",
        "  print('Media =', s.mean(steps))\n",
        "\n",
        "\n",
        "\n",
        "  # This code is contributed by Mohit Kumar\n"
      ],
      "execution_count": 4,
      "outputs": []
    },
    {
      "cell_type": "markdown",
      "metadata": {
        "id": "0dB0l4eIISPp"
      },
      "source": [
        "## $n = 4$"
      ]
    },
    {
      "cell_type": "code",
      "metadata": {
        "colab": {
          "base_uri": "https://localhost:8080/",
          "height": 333
        },
        "id": "udM4uvyKIIIt",
        "outputId": "b534d027-ca77-4f66-d35b-5c5776d28c80"
      },
      "source": [
        "galeShapley(n=4)"
      ],
      "execution_count": 5,
      "outputs": [
        {
          "output_type": "stream",
          "text": [
            "Corriendo el algoritmo 100 veces para n = 4\n",
            "\n"
          ],
          "name": "stdout"
        },
        {
          "output_type": "display_data",
          "data": {
            "image/png": "[encoded data removed]",
            "text/plain": [
              "<Figure size 432x288 with 1 Axes>"
            ]
          },
          "metadata": {
            "tags": [],
            "needs_background": "light"
          }
        },
        {
          "output_type": "stream",
          "text": [
            "Máximo = 14 \tMínimo = 4\n",
            "Media = 9\n"
          ],
          "name": "stdout"
        }
      ]
    },
    {
      "cell_type": "markdown",
      "metadata": {
        "id": "OPFWF5B4IWW3"
      },
      "source": [
        "## $n = 40$"
      ]
    },
    {
      "cell_type": "code",
      "metadata": {
        "colab": {
          "base_uri": "https://localhost:8080/",
          "height": 333
        },
        "id": "O2DXIBy0IKJS",
        "outputId": "2f8ad8c0-0756-45d8-b783-1f49b230aa5b"
      },
      "source": [
        "galeShapley(n=40)"
      ],
      "execution_count": 6,
      "outputs": [
        {
          "output_type": "stream",
          "text": [
            "Corriendo el algoritmo 100 veces para n = 40\n",
            "\n"
          ],
          "name": "stdout"
        },
        {
          "output_type": "display_data",
          "data": {
            "image/png": "[encoded data removed]",
            "text/plain": [
              "<Figure size 432x288 with 1 Axes>"
            ]
          },
          "metadata": {
            "tags": [],
            "needs_background": "light"
          }
        },
        {
          "output_type": "stream",
          "text": [
            "Máximo = 403 \tMínimo = 106\n",
            "Media = 229.0487804878049\n"
          ],
          "name": "stdout"
        }
      ]
    }
  ]
}